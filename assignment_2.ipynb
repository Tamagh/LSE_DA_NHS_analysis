{
 "cells": [
  {
   "cell_type": "code",
   "execution_count": 1,
   "id": "79030fa8",
   "metadata": {},
   "outputs": [],
   "source": [
    "# Import the Pandas library and the csv files.\n",
    "import pandas as pd\n",
    "\n",
    "ad = pd.read_csv('actual_duration.csv')\n",
    "ar = pd.read_csv('appointments_regional.csv')"
   ]
  },
  {
   "cell_type": "markdown",
   "id": "24aedb17",
   "metadata": {},
   "source": [
    "# 1. Explore the actual duration data."
   ]
  },
  {
   "cell_type": "code",
   "execution_count": 2,
   "id": "d768d3f1",
   "metadata": {},
   "outputs": [
    {
     "name": "stdout",
     "output_type": "stream",
     "text": [
      "(137793, 8)\n",
      "sub_icb_location_code        object\n",
      "sub_icb_location_ons_code    object\n",
      "sub_icb_location_name        object\n",
      "icb_ons_code                 object\n",
      "region_ons_code              object\n",
      "appointment_date             object\n",
      "actual_duration              object\n",
      "count_of_appointments         int64\n",
      "dtype: object\n"
     ]
    },
    {
     "data": {
      "text/html": [
       "<div>\n",
       "<style scoped>\n",
       "    .dataframe tbody tr th:only-of-type {\n",
       "        vertical-align: middle;\n",
       "    }\n",
       "\n",
       "    .dataframe tbody tr th {\n",
       "        vertical-align: top;\n",
       "    }\n",
       "\n",
       "    .dataframe thead th {\n",
       "        text-align: right;\n",
       "    }\n",
       "</style>\n",
       "<table border=\"1\" class=\"dataframe\">\n",
       "  <thead>\n",
       "    <tr style=\"text-align: right;\">\n",
       "      <th></th>\n",
       "      <th>sub_icb_location_code</th>\n",
       "      <th>sub_icb_location_ons_code</th>\n",
       "      <th>sub_icb_location_name</th>\n",
       "      <th>icb_ons_code</th>\n",
       "      <th>region_ons_code</th>\n",
       "      <th>appointment_date</th>\n",
       "      <th>actual_duration</th>\n",
       "      <th>count_of_appointments</th>\n",
       "    </tr>\n",
       "  </thead>\n",
       "  <tbody>\n",
       "    <tr>\n",
       "      <th>0</th>\n",
       "      <td>00L</td>\n",
       "      <td>E38000130</td>\n",
       "      <td>NHS North East and North Cumbria ICB - 00L</td>\n",
       "      <td>E54000050</td>\n",
       "      <td>E40000012</td>\n",
       "      <td>01-Dec-21</td>\n",
       "      <td>31-60 Minutes</td>\n",
       "      <td>364</td>\n",
       "    </tr>\n",
       "    <tr>\n",
       "      <th>1</th>\n",
       "      <td>00L</td>\n",
       "      <td>E38000130</td>\n",
       "      <td>NHS North East and North Cumbria ICB - 00L</td>\n",
       "      <td>E54000050</td>\n",
       "      <td>E40000012</td>\n",
       "      <td>01-Dec-21</td>\n",
       "      <td>21-30 Minutes</td>\n",
       "      <td>619</td>\n",
       "    </tr>\n",
       "    <tr>\n",
       "      <th>2</th>\n",
       "      <td>00L</td>\n",
       "      <td>E38000130</td>\n",
       "      <td>NHS North East and North Cumbria ICB - 00L</td>\n",
       "      <td>E54000050</td>\n",
       "      <td>E40000012</td>\n",
       "      <td>01-Dec-21</td>\n",
       "      <td>6-10 Minutes</td>\n",
       "      <td>1698</td>\n",
       "    </tr>\n",
       "    <tr>\n",
       "      <th>3</th>\n",
       "      <td>00L</td>\n",
       "      <td>E38000130</td>\n",
       "      <td>NHS North East and North Cumbria ICB - 00L</td>\n",
       "      <td>E54000050</td>\n",
       "      <td>E40000012</td>\n",
       "      <td>01-Dec-21</td>\n",
       "      <td>Unknown / Data Quality</td>\n",
       "      <td>1277</td>\n",
       "    </tr>\n",
       "    <tr>\n",
       "      <th>4</th>\n",
       "      <td>00L</td>\n",
       "      <td>E38000130</td>\n",
       "      <td>NHS North East and North Cumbria ICB - 00L</td>\n",
       "      <td>E54000050</td>\n",
       "      <td>E40000012</td>\n",
       "      <td>01-Dec-21</td>\n",
       "      <td>16-20 Minutes</td>\n",
       "      <td>730</td>\n",
       "    </tr>\n",
       "  </tbody>\n",
       "</table>\n",
       "</div>"
      ],
      "text/plain": [
       "  sub_icb_location_code sub_icb_location_ons_code  \\\n",
       "0                   00L                 E38000130   \n",
       "1                   00L                 E38000130   \n",
       "2                   00L                 E38000130   \n",
       "3                   00L                 E38000130   \n",
       "4                   00L                 E38000130   \n",
       "\n",
       "                        sub_icb_location_name icb_ons_code region_ons_code  \\\n",
       "0  NHS North East and North Cumbria ICB - 00L    E54000050       E40000012   \n",
       "1  NHS North East and North Cumbria ICB - 00L    E54000050       E40000012   \n",
       "2  NHS North East and North Cumbria ICB - 00L    E54000050       E40000012   \n",
       "3  NHS North East and North Cumbria ICB - 00L    E54000050       E40000012   \n",
       "4  NHS North East and North Cumbria ICB - 00L    E54000050       E40000012   \n",
       "\n",
       "  appointment_date         actual_duration  count_of_appointments  \n",
       "0        01-Dec-21           31-60 Minutes                    364  \n",
       "1        01-Dec-21           21-30 Minutes                    619  \n",
       "2        01-Dec-21            6-10 Minutes                   1698  \n",
       "3        01-Dec-21  Unknown / Data Quality                   1277  \n",
       "4        01-Dec-21           16-20 Minutes                    730  "
      ]
     },
     "execution_count": 2,
     "metadata": {},
     "output_type": "execute_result"
    }
   ],
   "source": [
    "# View and validate the 'ad' dataframe.\n",
    "print(ad.shape)\n",
    "print(ad.dtypes)\n",
    "ad.head()"
   ]
  },
  {
   "cell_type": "code",
   "execution_count": 3,
   "id": "174a402c",
   "metadata": {},
   "outputs": [
    {
     "name": "stdout",
     "output_type": "stream",
     "text": [
      "(106,)\n"
     ]
    }
   ],
   "source": [
    "# Find out the number of locations based on the 'ad' dataframe.\n",
    "ad_locations = ad['sub_icb_location_name'].value_counts()\n",
    "\n",
    "print(ad_locations.shape)"
   ]
  },
  {
   "cell_type": "code",
   "execution_count": 4,
   "id": "e0cd4929",
   "metadata": {},
   "outputs": [
    {
     "name": "stdout",
     "output_type": "stream",
     "text": [
      "26A      1484\n",
      "91Q      1484\n",
      "W2U3Z    1484\n",
      "M1J4Y    1484\n",
      "14L      1484\n",
      "         ... \n",
      "05D      1051\n",
      "03L      1028\n",
      "00P      1025\n",
      "02P      1022\n",
      "01F      1013\n",
      "Name: sub_icb_location_code, Length: 106, dtype: int64\n"
     ]
    }
   ],
   "source": [
    "# Find out the number of sub location codes.\n",
    "print(ad['sub_icb_location_code'].value_counts())"
   ]
  },
  {
   "cell_type": "code",
   "execution_count": 5,
   "id": "ce167460",
   "metadata": {},
   "outputs": [
    {
     "name": "stdout",
     "output_type": "stream",
     "text": [
      "(42,)\n"
     ]
    }
   ],
   "source": [
    "# Find out the number of ons locations.\n",
    "ad_locations_ons = ad['icb_ons_code'].value_counts()\n",
    "print(ad_locations_ons.shape)"
   ]
  },
  {
   "cell_type": "code",
   "execution_count": 6,
   "id": "b96138cd",
   "metadata": {},
   "outputs": [
    {
     "data": {
      "text/plain": [
       "167980692"
      ]
     },
     "execution_count": 6,
     "metadata": {},
     "output_type": "execute_result"
    }
   ],
   "source": [
    "# Calculate the number of appointments.\n",
    "ad['count_of_appointments'].sum()"
   ]
  },
  {
   "cell_type": "code",
   "execution_count": 7,
   "id": "9afc5d48",
   "metadata": {},
   "outputs": [
    {
     "name": "stdout",
     "output_type": "stream",
     "text": [
      "1\n",
      "15400\n"
     ]
    }
   ],
   "source": [
    "print(ad['count_of_appointments'].min())\n",
    "print(ad['count_of_appointments'].max())"
   ]
  },
  {
   "cell_type": "code",
   "execution_count": 8,
   "id": "8d11d8d4",
   "metadata": {},
   "outputs": [
    {
     "data": {
      "text/html": [
       "<div>\n",
       "<style scoped>\n",
       "    .dataframe tbody tr th:only-of-type {\n",
       "        vertical-align: middle;\n",
       "    }\n",
       "\n",
       "    .dataframe tbody tr th {\n",
       "        vertical-align: top;\n",
       "    }\n",
       "\n",
       "    .dataframe thead th {\n",
       "        text-align: right;\n",
       "    }\n",
       "</style>\n",
       "<table border=\"1\" class=\"dataframe\">\n",
       "  <thead>\n",
       "    <tr style=\"text-align: right;\">\n",
       "      <th></th>\n",
       "      <th>count_of_appointments</th>\n",
       "    </tr>\n",
       "    <tr>\n",
       "      <th>sub_icb_location_ons_code</th>\n",
       "      <th></th>\n",
       "    </tr>\n",
       "  </thead>\n",
       "  <tbody>\n",
       "    <tr>\n",
       "      <th>E38000256</th>\n",
       "      <td>6976986</td>\n",
       "    </tr>\n",
       "    <tr>\n",
       "      <th>E38000255</th>\n",
       "      <td>5341883</td>\n",
       "    </tr>\n",
       "    <tr>\n",
       "      <th>E38000237</th>\n",
       "      <td>5209641</td>\n",
       "    </tr>\n",
       "    <tr>\n",
       "      <th>E38000253</th>\n",
       "      <td>4712737</td>\n",
       "    </tr>\n",
       "    <tr>\n",
       "      <th>E38000244</th>\n",
       "      <td>4360079</td>\n",
       "    </tr>\n",
       "    <tr>\n",
       "      <th>...</th>\n",
       "      <td>...</td>\n",
       "    </tr>\n",
       "    <tr>\n",
       "      <th>E38000024</th>\n",
       "      <td>362242</td>\n",
       "    </tr>\n",
       "    <tr>\n",
       "      <th>E38000170</th>\n",
       "      <td>358060</td>\n",
       "    </tr>\n",
       "    <tr>\n",
       "      <th>E38000068</th>\n",
       "      <td>348396</td>\n",
       "    </tr>\n",
       "    <tr>\n",
       "      <th>E38000161</th>\n",
       "      <td>340895</td>\n",
       "    </tr>\n",
       "    <tr>\n",
       "      <th>E38000200</th>\n",
       "      <td>311713</td>\n",
       "    </tr>\n",
       "  </tbody>\n",
       "</table>\n",
       "<p>106 rows × 1 columns</p>\n",
       "</div>"
      ],
      "text/plain": [
       "                           count_of_appointments\n",
       "sub_icb_location_ons_code                       \n",
       "E38000256                                6976986\n",
       "E38000255                                5341883\n",
       "E38000237                                5209641\n",
       "E38000253                                4712737\n",
       "E38000244                                4360079\n",
       "...                                          ...\n",
       "E38000024                                 362242\n",
       "E38000170                                 358060\n",
       "E38000068                                 348396\n",
       "E38000161                                 340895\n",
       "E38000200                                 311713\n",
       "\n",
       "[106 rows x 1 columns]"
      ]
     },
     "execution_count": 8,
     "metadata": {},
     "output_type": "execute_result"
    }
   ],
   "source": [
    "# Which location had the highest number of appointments?\n",
    "group_sub_location = ad.groupby('sub_icb_location_ons_code')[['count_of_appointments']].agg('sum')\n",
    "\n",
    "group_sub_location.sort_values(by=['count_of_appointments'], inplace=True, ascending=False)\n",
    "group_sub_location"
   ]
  },
  {
   "cell_type": "code",
   "execution_count": 9,
   "id": "a30b5670",
   "metadata": {},
   "outputs": [
    {
     "data": {
      "text/html": [
       "<div>\n",
       "<style scoped>\n",
       "    .dataframe tbody tr th:only-of-type {\n",
       "        vertical-align: middle;\n",
       "    }\n",
       "\n",
       "    .dataframe tbody tr th {\n",
       "        vertical-align: top;\n",
       "    }\n",
       "\n",
       "    .dataframe thead th {\n",
       "        text-align: right;\n",
       "    }\n",
       "</style>\n",
       "<table border=\"1\" class=\"dataframe\">\n",
       "  <thead>\n",
       "    <tr style=\"text-align: right;\">\n",
       "      <th></th>\n",
       "      <th>count_of_appointments</th>\n",
       "    </tr>\n",
       "    <tr>\n",
       "      <th>sub_icb_location_name</th>\n",
       "      <th></th>\n",
       "    </tr>\n",
       "  </thead>\n",
       "  <tbody>\n",
       "    <tr>\n",
       "      <th>NHS North West London ICB - W2U3Z</th>\n",
       "      <td>6976986</td>\n",
       "    </tr>\n",
       "    <tr>\n",
       "      <th>NHS North East London ICB - A3A8R</th>\n",
       "      <td>5341883</td>\n",
       "    </tr>\n",
       "    <tr>\n",
       "      <th>NHS Kent and Medway ICB - 91Q</th>\n",
       "      <td>5209641</td>\n",
       "    </tr>\n",
       "    <tr>\n",
       "      <th>NHS Hampshire and Isle Of Wight ICB - D9Y0V</th>\n",
       "      <td>4712737</td>\n",
       "    </tr>\n",
       "    <tr>\n",
       "      <th>NHS South East London ICB - 72Q</th>\n",
       "      <td>4360079</td>\n",
       "    </tr>\n",
       "    <tr>\n",
       "      <th>NHS Devon ICB - 15N</th>\n",
       "      <td>4255338</td>\n",
       "    </tr>\n",
       "    <tr>\n",
       "      <th>NHS South West London ICB - 36L</th>\n",
       "      <td>4014321</td>\n",
       "    </tr>\n",
       "    <tr>\n",
       "      <th>NHS Black Country ICB - D2P2L</th>\n",
       "      <td>3901431</td>\n",
       "    </tr>\n",
       "    <tr>\n",
       "      <th>NHS North Central London ICB - 93C</th>\n",
       "      <td>3795250</td>\n",
       "    </tr>\n",
       "    <tr>\n",
       "      <th>NHS Birmingham and Solihull ICB - 15E</th>\n",
       "      <td>3600087</td>\n",
       "    </tr>\n",
       "  </tbody>\n",
       "</table>\n",
       "</div>"
      ],
      "text/plain": [
       "                                             count_of_appointments\n",
       "sub_icb_location_name                                             \n",
       "NHS North West London ICB - W2U3Z                          6976986\n",
       "NHS North East London ICB - A3A8R                          5341883\n",
       "NHS Kent and Medway ICB - 91Q                              5209641\n",
       "NHS Hampshire and Isle Of Wight ICB - D9Y0V                4712737\n",
       "NHS South East London ICB - 72Q                            4360079\n",
       "NHS Devon ICB - 15N                                        4255338\n",
       "NHS South West London ICB - 36L                            4014321\n",
       "NHS Black Country ICB - D2P2L                              3901431\n",
       "NHS North Central London ICB - 93C                         3795250\n",
       "NHS Birmingham and Solihull ICB - 15E                      3600087"
      ]
     },
     "execution_count": 9,
     "metadata": {},
     "output_type": "execute_result"
    }
   ],
   "source": [
    "# List the top 10 location names by appointments.\n",
    "group_sub_location_name = ad.groupby('sub_icb_location_name')[['count_of_appointments']].agg('sum')\n",
    "\n",
    "group_sub_location_name.sort_values(by=['count_of_appointments'], inplace=True, ascending=False)\n",
    "group_sub_location_name[0:10]"
   ]
  },
  {
   "cell_type": "code",
   "execution_count": 10,
   "id": "ff2a0bb1",
   "metadata": {},
   "outputs": [
    {
     "name": "stdout",
     "output_type": "stream",
     "text": [
      "NHS Norfolk and Waveney ICB - 26A                       1484\n",
      "NHS Kent and Medway ICB - 91Q                           1484\n",
      "NHS North West London ICB - W2U3Z                       1484\n",
      "NHS Bedfordshire Luton and Milton Keynes ICB - M1J4Y    1484\n",
      "NHS Greater Manchester ICB - 14L                        1484\n",
      "                                                        ... \n",
      "NHS Staffordshire and Stoke-on-Trent ICB - 05D          1051\n",
      "NHS South Yorkshire ICB - 03L                           1028\n",
      "NHS North East and North Cumbria ICB - 00P              1025\n",
      "NHS South Yorkshire ICB - 02P                           1022\n",
      "NHS Cheshire and Merseyside ICB - 01F                   1013\n",
      "Name: sub_icb_location_name, Length: 106, dtype: int64\n"
     ]
    }
   ],
   "source": [
    "# Find out which location has the highest number of records.\n",
    "print(ad['sub_icb_location_name'].value_counts())"
   ]
  },
  {
   "cell_type": "code",
   "execution_count": 11,
   "id": "85f08d5f",
   "metadata": {},
   "outputs": [
    {
     "name": "stdout",
     "output_type": "stream",
     "text": [
      "01-Dec-21    742\n",
      "07-Mar-22    742\n",
      "06-Apr-22    742\n",
      "07-Apr-22    742\n",
      "08-Apr-22    742\n",
      "            ... \n",
      "03-Jun-22    254\n",
      "27-Dec-21    248\n",
      "01-Jan-22    223\n",
      "26-Dec-21    189\n",
      "25-Dec-21    128\n",
      "Name: appointment_date, Length: 212, dtype: int64\n"
     ]
    }
   ],
   "source": [
    "# Find the highest and lowest number of records by date.\n",
    "print(ad['appointment_date'].value_counts())"
   ]
  },
  {
   "cell_type": "code",
   "execution_count": 13,
   "id": "cff6bac9",
   "metadata": {},
   "outputs": [],
   "source": [
    "# Import the datetime library.\n",
    "from datetime import datetime\n",
    "\n",
    "# Change the datatype for the appointment date column.\n",
    "ad['appointment_date'] = pd.to_datetime(ad['appointment_date'])"
   ]
  },
  {
   "cell_type": "code",
   "execution_count": 14,
   "id": "7ce2b712",
   "metadata": {},
   "outputs": [
    {
     "name": "stdout",
     "output_type": "stream",
     "text": [
      "2021-12-01 00:00:00\n",
      "2022-06-30 00:00:00\n"
     ]
    }
   ],
   "source": [
    "# Find the earliest and latest records.\n",
    "print(ad['appointment_date'].min())\n",
    "print(ad['appointment_date'].max())"
   ]
  },
  {
   "cell_type": "code",
   "execution_count": 15,
   "id": "427d83b6",
   "metadata": {},
   "outputs": [
    {
     "name": "stdout",
     "output_type": "stream",
     "text": [
      "Unknown / Data Quality    20161\n",
      "1-5 Minutes               19909\n",
      "6-10 Minutes              19902\n",
      "11-15 Minutes             19738\n",
      "16-20 Minutes             19534\n",
      "21-30 Minutes             19452\n",
      "31-60 Minutes             19097\n",
      "Name: actual_duration, dtype: int64\n"
     ]
    }
   ],
   "source": [
    "# Group the data based on duration.\n",
    "print(ad['actual_duration'].value_counts())"
   ]
  },
  {
   "cell_type": "markdown",
   "id": "ef81c8c4",
   "metadata": {},
   "source": [
    "# 2. Explore the appointment regional data."
   ]
  },
  {
   "cell_type": "code",
   "execution_count": 16,
   "id": "2751c632",
   "metadata": {
    "scrolled": true
   },
   "outputs": [
    {
     "name": "stdout",
     "output_type": "stream",
     "text": [
      "(137793, 8)\n",
      "sub_icb_location_code                object\n",
      "sub_icb_location_ons_code            object\n",
      "sub_icb_location_name                object\n",
      "icb_ons_code                         object\n",
      "region_ons_code                      object\n",
      "appointment_date             datetime64[ns]\n",
      "actual_duration                      object\n",
      "count_of_appointments                 int64\n",
      "dtype: object\n"
     ]
    },
    {
     "data": {
      "text/html": [
       "<div>\n",
       "<style scoped>\n",
       "    .dataframe tbody tr th:only-of-type {\n",
       "        vertical-align: middle;\n",
       "    }\n",
       "\n",
       "    .dataframe tbody tr th {\n",
       "        vertical-align: top;\n",
       "    }\n",
       "\n",
       "    .dataframe thead th {\n",
       "        text-align: right;\n",
       "    }\n",
       "</style>\n",
       "<table border=\"1\" class=\"dataframe\">\n",
       "  <thead>\n",
       "    <tr style=\"text-align: right;\">\n",
       "      <th></th>\n",
       "      <th>sub_icb_location_code</th>\n",
       "      <th>sub_icb_location_ons_code</th>\n",
       "      <th>sub_icb_location_name</th>\n",
       "      <th>icb_ons_code</th>\n",
       "      <th>region_ons_code</th>\n",
       "      <th>appointment_date</th>\n",
       "      <th>actual_duration</th>\n",
       "      <th>count_of_appointments</th>\n",
       "    </tr>\n",
       "  </thead>\n",
       "  <tbody>\n",
       "    <tr>\n",
       "      <th>0</th>\n",
       "      <td>00L</td>\n",
       "      <td>E38000130</td>\n",
       "      <td>NHS North East and North Cumbria ICB - 00L</td>\n",
       "      <td>E54000050</td>\n",
       "      <td>E40000012</td>\n",
       "      <td>2021-12-01</td>\n",
       "      <td>31-60 Minutes</td>\n",
       "      <td>364</td>\n",
       "    </tr>\n",
       "    <tr>\n",
       "      <th>1</th>\n",
       "      <td>00L</td>\n",
       "      <td>E38000130</td>\n",
       "      <td>NHS North East and North Cumbria ICB - 00L</td>\n",
       "      <td>E54000050</td>\n",
       "      <td>E40000012</td>\n",
       "      <td>2021-12-01</td>\n",
       "      <td>21-30 Minutes</td>\n",
       "      <td>619</td>\n",
       "    </tr>\n",
       "    <tr>\n",
       "      <th>2</th>\n",
       "      <td>00L</td>\n",
       "      <td>E38000130</td>\n",
       "      <td>NHS North East and North Cumbria ICB - 00L</td>\n",
       "      <td>E54000050</td>\n",
       "      <td>E40000012</td>\n",
       "      <td>2021-12-01</td>\n",
       "      <td>6-10 Minutes</td>\n",
       "      <td>1698</td>\n",
       "    </tr>\n",
       "    <tr>\n",
       "      <th>3</th>\n",
       "      <td>00L</td>\n",
       "      <td>E38000130</td>\n",
       "      <td>NHS North East and North Cumbria ICB - 00L</td>\n",
       "      <td>E54000050</td>\n",
       "      <td>E40000012</td>\n",
       "      <td>2021-12-01</td>\n",
       "      <td>Unknown / Data Quality</td>\n",
       "      <td>1277</td>\n",
       "    </tr>\n",
       "    <tr>\n",
       "      <th>4</th>\n",
       "      <td>00L</td>\n",
       "      <td>E38000130</td>\n",
       "      <td>NHS North East and North Cumbria ICB - 00L</td>\n",
       "      <td>E54000050</td>\n",
       "      <td>E40000012</td>\n",
       "      <td>2021-12-01</td>\n",
       "      <td>16-20 Minutes</td>\n",
       "      <td>730</td>\n",
       "    </tr>\n",
       "  </tbody>\n",
       "</table>\n",
       "</div>"
      ],
      "text/plain": [
       "  sub_icb_location_code sub_icb_location_ons_code  \\\n",
       "0                   00L                 E38000130   \n",
       "1                   00L                 E38000130   \n",
       "2                   00L                 E38000130   \n",
       "3                   00L                 E38000130   \n",
       "4                   00L                 E38000130   \n",
       "\n",
       "                        sub_icb_location_name icb_ons_code region_ons_code  \\\n",
       "0  NHS North East and North Cumbria ICB - 00L    E54000050       E40000012   \n",
       "1  NHS North East and North Cumbria ICB - 00L    E54000050       E40000012   \n",
       "2  NHS North East and North Cumbria ICB - 00L    E54000050       E40000012   \n",
       "3  NHS North East and North Cumbria ICB - 00L    E54000050       E40000012   \n",
       "4  NHS North East and North Cumbria ICB - 00L    E54000050       E40000012   \n",
       "\n",
       "  appointment_date         actual_duration  count_of_appointments  \n",
       "0       2021-12-01           31-60 Minutes                    364  \n",
       "1       2021-12-01           21-30 Minutes                    619  \n",
       "2       2021-12-01            6-10 Minutes                   1698  \n",
       "3       2021-12-01  Unknown / Data Quality                   1277  \n",
       "4       2021-12-01           16-20 Minutes                    730  "
      ]
     },
     "execution_count": 16,
     "metadata": {},
     "output_type": "execute_result"
    }
   ],
   "source": [
    "# View and validate the 'ar' dataframe.\n",
    "print(ad.shape)\n",
    "print(ad.dtypes)\n",
    "ad.head()"
   ]
  },
  {
   "cell_type": "code",
   "execution_count": 17,
   "id": "1aae5f80",
   "metadata": {},
   "outputs": [
    {
     "name": "stdout",
     "output_type": "stream",
     "text": [
      "(42,)\n"
     ]
    }
   ],
   "source": [
    "# Find out the number of ons locations.\n",
    "ar_locations_ons = ar['icb_ons_code'].value_counts()\n",
    "\n",
    "print(ad_locations_ons.shape)"
   ]
  },
  {
   "cell_type": "code",
   "execution_count": 18,
   "id": "690e8ee7",
   "metadata": {},
   "outputs": [
    {
     "data": {
      "text/plain": [
       "742804525"
      ]
     },
     "execution_count": 18,
     "metadata": {},
     "output_type": "execute_result"
    }
   ],
   "source": [
    "# Calculate the number of appointments\n",
    "ar['count_of_appointments'].sum()"
   ]
  },
  {
   "cell_type": "code",
   "execution_count": 19,
   "id": "50111693",
   "metadata": {},
   "outputs": [
    {
     "name": "stdout",
     "output_type": "stream",
     "text": [
      "1\n",
      "211265\n"
     ]
    }
   ],
   "source": [
    "print(ar['count_of_appointments'].min())\n",
    "print(ar['count_of_appointments'].max())"
   ]
  },
  {
   "cell_type": "code",
   "execution_count": 20,
   "id": "35ed99ea",
   "metadata": {},
   "outputs": [
    {
     "data": {
      "text/html": [
       "<div>\n",
       "<style scoped>\n",
       "    .dataframe tbody tr th:only-of-type {\n",
       "        vertical-align: middle;\n",
       "    }\n",
       "\n",
       "    .dataframe tbody tr th {\n",
       "        vertical-align: top;\n",
       "    }\n",
       "\n",
       "    .dataframe thead th {\n",
       "        text-align: right;\n",
       "    }\n",
       "</style>\n",
       "<table border=\"1\" class=\"dataframe\">\n",
       "  <thead>\n",
       "    <tr style=\"text-align: right;\">\n",
       "      <th></th>\n",
       "      <th>icb_ons_code</th>\n",
       "      <th>appointment_month</th>\n",
       "      <th>appointment_status</th>\n",
       "      <th>hcp_type</th>\n",
       "      <th>appointment_mode</th>\n",
       "      <th>time_between_book_and_appointment</th>\n",
       "      <th>count_of_appointments</th>\n",
       "    </tr>\n",
       "  </thead>\n",
       "  <tbody>\n",
       "    <tr>\n",
       "      <th>144544</th>\n",
       "      <td>E54000027</td>\n",
       "      <td>2020-01</td>\n",
       "      <td>Attended</td>\n",
       "      <td>GP</td>\n",
       "      <td>Face-to-Face</td>\n",
       "      <td>Same Day</td>\n",
       "      <td>211265</td>\n",
       "    </tr>\n",
       "    <tr>\n",
       "      <th>409005</th>\n",
       "      <td>E54000029</td>\n",
       "      <td>2020-01</td>\n",
       "      <td>Attended</td>\n",
       "      <td>GP</td>\n",
       "      <td>Face-to-Face</td>\n",
       "      <td>Same Day</td>\n",
       "      <td>203378</td>\n",
       "    </tr>\n",
       "    <tr>\n",
       "      <th>145905</th>\n",
       "      <td>E54000027</td>\n",
       "      <td>2020-06</td>\n",
       "      <td>Attended</td>\n",
       "      <td>GP</td>\n",
       "      <td>Telephone</td>\n",
       "      <td>Same Day</td>\n",
       "      <td>191019</td>\n",
       "    </tr>\n",
       "    <tr>\n",
       "      <th>410298</th>\n",
       "      <td>E54000029</td>\n",
       "      <td>2020-06</td>\n",
       "      <td>Attended</td>\n",
       "      <td>GP</td>\n",
       "      <td>Telephone</td>\n",
       "      <td>Same Day</td>\n",
       "      <td>186344</td>\n",
       "    </tr>\n",
       "    <tr>\n",
       "      <th>144828</th>\n",
       "      <td>E54000027</td>\n",
       "      <td>2020-02</td>\n",
       "      <td>Attended</td>\n",
       "      <td>GP</td>\n",
       "      <td>Face-to-Face</td>\n",
       "      <td>Same Day</td>\n",
       "      <td>185930</td>\n",
       "    </tr>\n",
       "  </tbody>\n",
       "</table>\n",
       "</div>"
      ],
      "text/plain": [
       "       icb_ons_code appointment_month appointment_status hcp_type  \\\n",
       "144544    E54000027           2020-01           Attended       GP   \n",
       "409005    E54000029           2020-01           Attended       GP   \n",
       "145905    E54000027           2020-06           Attended       GP   \n",
       "410298    E54000029           2020-06           Attended       GP   \n",
       "144828    E54000027           2020-02           Attended       GP   \n",
       "\n",
       "       appointment_mode time_between_book_and_appointment  \\\n",
       "144544     Face-to-Face                          Same Day   \n",
       "409005     Face-to-Face                          Same Day   \n",
       "145905        Telephone                          Same Day   \n",
       "410298        Telephone                          Same Day   \n",
       "144828     Face-to-Face                          Same Day   \n",
       "\n",
       "        count_of_appointments  \n",
       "144544                 211265  \n",
       "409005                 203378  \n",
       "145905                 191019  \n",
       "410298                 186344  \n",
       "144828                 185930  "
      ]
     },
     "execution_count": 20,
     "metadata": {},
     "output_type": "execute_result"
    }
   ],
   "source": [
    "sorted_ar = ar.sort_values(by=['count_of_appointments'], ascending=False)\n",
    "sorted_ar.head()"
   ]
  },
  {
   "cell_type": "code",
   "execution_count": 21,
   "id": "f7980706",
   "metadata": {},
   "outputs": [
    {
     "data": {
      "text/plain": [
       "2020-01    20889\n",
       "2020-02    20689\n",
       "2020-03    21350\n",
       "2020-04    19124\n",
       "2020-05    18338\n",
       "2020-06    18844\n",
       "2020-07    19502\n",
       "2020-08    19247\n",
       "2020-09    20043\n",
       "2020-10    20122\n",
       "2020-11    19675\n",
       "2020-12    19394\n",
       "2021-01    19319\n",
       "2021-02    18949\n",
       "2021-03    19369\n",
       "2021-04    19452\n",
       "2021-05    19384\n",
       "2021-06    19814\n",
       "2021-07    19899\n",
       "2021-08    19786\n",
       "2021-09    20441\n",
       "2021-10    20562\n",
       "2021-11    20766\n",
       "2021-12    20393\n",
       "2022-01    20225\n",
       "2022-02    20133\n",
       "2022-03    20532\n",
       "2022-04    20073\n",
       "2022-05    20276\n",
       "2022-06    20231\n",
       "Name: appointment_month, dtype: int64"
      ]
     },
     "execution_count": 21,
     "metadata": {},
     "output_type": "execute_result"
    }
   ],
   "source": [
    "# Group the data based on duration.\n",
    "ar_month = (ar['appointment_month'].value_counts(sort=False))\n",
    "ar_month"
   ]
  },
  {
   "cell_type": "code",
   "execution_count": 22,
   "id": "87f9aca1",
   "metadata": {},
   "outputs": [
    {
     "data": {
      "text/plain": [
       "Attended    232137\n",
       "Unknown     201324\n",
       "DNA         163360\n",
       "Name: appointment_status, dtype: int64"
      ]
     },
     "execution_count": 22,
     "metadata": {},
     "output_type": "execute_result"
    }
   ],
   "source": [
    "# Group the data based on appointment status.\n",
    "ar_status = (ar['appointment_status'].value_counts())\n",
    "ar_status"
   ]
  },
  {
   "cell_type": "code",
   "execution_count": 23,
   "id": "eb009d8b",
   "metadata": {},
   "outputs": [
    {
     "data": {
      "text/plain": [
       "appointment_month  appointment_status\n",
       "2020-01            Attended              7830\n",
       "                   Unknown               7187\n",
       "                   DNA                   5872\n",
       "2020-02            Attended              7761\n",
       "                   Unknown               7172\n",
       "                   DNA                   5756\n",
       "2020-03            Attended              7910\n",
       "                   Unknown               7543\n",
       "                   DNA                   5897\n",
       "2020-04            Attended              7294\n",
       "                   Unknown               6986\n",
       "                   DNA                   4844\n",
       "2020-05            Attended              7056\n",
       "                   Unknown               6607\n",
       "                   DNA                   4675\n",
       "2020-06            Attended              7240\n",
       "                   Unknown               6751\n",
       "                   DNA                   4853\n",
       "2020-07            Attended              7578\n",
       "                   Unknown               6818\n",
       "dtype: int64"
      ]
     },
     "execution_count": 23,
     "metadata": {},
     "output_type": "execute_result"
    }
   ],
   "source": [
    "ar_monthly = ar.groupby('appointment_month')[['appointment_status']].agg('value_counts')\n",
    "ar_monthly[0:20]"
   ]
  },
  {
   "cell_type": "code",
   "execution_count": 24,
   "id": "070e8f86",
   "metadata": {},
   "outputs": [
    {
     "data": {
      "text/html": [
       "<div>\n",
       "<style scoped>\n",
       "    .dataframe tbody tr th:only-of-type {\n",
       "        vertical-align: middle;\n",
       "    }\n",
       "\n",
       "    .dataframe tbody tr th {\n",
       "        vertical-align: top;\n",
       "    }\n",
       "\n",
       "    .dataframe thead th {\n",
       "        text-align: right;\n",
       "    }\n",
       "</style>\n",
       "<table border=\"1\" class=\"dataframe\">\n",
       "  <thead>\n",
       "    <tr style=\"text-align: right;\">\n",
       "      <th></th>\n",
       "      <th>count_of_appointments</th>\n",
       "    </tr>\n",
       "    <tr>\n",
       "      <th>appointment_month</th>\n",
       "      <th></th>\n",
       "    </tr>\n",
       "  </thead>\n",
       "  <tbody>\n",
       "    <tr>\n",
       "      <th>2020-01</th>\n",
       "      <td>27199296</td>\n",
       "    </tr>\n",
       "    <tr>\n",
       "      <th>2020-02</th>\n",
       "      <td>24104621</td>\n",
       "    </tr>\n",
       "    <tr>\n",
       "      <th>2020-03</th>\n",
       "      <td>24053468</td>\n",
       "    </tr>\n",
       "    <tr>\n",
       "      <th>2020-04</th>\n",
       "      <td>16007881</td>\n",
       "    </tr>\n",
       "    <tr>\n",
       "      <th>2020-05</th>\n",
       "      <td>16417212</td>\n",
       "    </tr>\n",
       "    <tr>\n",
       "      <th>2020-06</th>\n",
       "      <td>20690805</td>\n",
       "    </tr>\n",
       "    <tr>\n",
       "      <th>2020-07</th>\n",
       "      <td>22491437</td>\n",
       "    </tr>\n",
       "    <tr>\n",
       "      <th>2020-08</th>\n",
       "      <td>20150520</td>\n",
       "    </tr>\n",
       "    <tr>\n",
       "      <th>2020-09</th>\n",
       "      <td>26714255</td>\n",
       "    </tr>\n",
       "    <tr>\n",
       "      <th>2020-10</th>\n",
       "      <td>28301932</td>\n",
       "    </tr>\n",
       "    <tr>\n",
       "      <th>2020-11</th>\n",
       "      <td>25061602</td>\n",
       "    </tr>\n",
       "    <tr>\n",
       "      <th>2020-12</th>\n",
       "      <td>23535936</td>\n",
       "    </tr>\n",
       "    <tr>\n",
       "      <th>2021-01</th>\n",
       "      <td>22492069</td>\n",
       "    </tr>\n",
       "    <tr>\n",
       "      <th>2021-02</th>\n",
       "      <td>22399569</td>\n",
       "    </tr>\n",
       "    <tr>\n",
       "      <th>2021-03</th>\n",
       "      <td>27225424</td>\n",
       "    </tr>\n",
       "    <tr>\n",
       "      <th>2021-04</th>\n",
       "      <td>23879932</td>\n",
       "    </tr>\n",
       "    <tr>\n",
       "      <th>2021-05</th>\n",
       "      <td>23508395</td>\n",
       "    </tr>\n",
       "    <tr>\n",
       "      <th>2021-06</th>\n",
       "      <td>26784182</td>\n",
       "    </tr>\n",
       "    <tr>\n",
       "      <th>2021-07</th>\n",
       "      <td>25739219</td>\n",
       "    </tr>\n",
       "    <tr>\n",
       "      <th>2021-08</th>\n",
       "      <td>23852171</td>\n",
       "    </tr>\n",
       "    <tr>\n",
       "      <th>2021-09</th>\n",
       "      <td>28522501</td>\n",
       "    </tr>\n",
       "    <tr>\n",
       "      <th>2021-10</th>\n",
       "      <td>30303834</td>\n",
       "    </tr>\n",
       "    <tr>\n",
       "      <th>2021-11</th>\n",
       "      <td>30405070</td>\n",
       "    </tr>\n",
       "    <tr>\n",
       "      <th>2021-12</th>\n",
       "      <td>25140776</td>\n",
       "    </tr>\n",
       "    <tr>\n",
       "      <th>2022-01</th>\n",
       "      <td>25635474</td>\n",
       "    </tr>\n",
       "    <tr>\n",
       "      <th>2022-02</th>\n",
       "      <td>25355260</td>\n",
       "    </tr>\n",
       "    <tr>\n",
       "      <th>2022-03</th>\n",
       "      <td>29595038</td>\n",
       "    </tr>\n",
       "    <tr>\n",
       "      <th>2022-04</th>\n",
       "      <td>23913060</td>\n",
       "    </tr>\n",
       "    <tr>\n",
       "      <th>2022-05</th>\n",
       "      <td>27495508</td>\n",
       "    </tr>\n",
       "    <tr>\n",
       "      <th>2022-06</th>\n",
       "      <td>25828078</td>\n",
       "    </tr>\n",
       "    <tr>\n",
       "      <th>total</th>\n",
       "      <td>742804525</td>\n",
       "    </tr>\n",
       "  </tbody>\n",
       "</table>\n",
       "</div>"
      ],
      "text/plain": [
       "                   count_of_appointments\n",
       "appointment_month                       \n",
       "2020-01                         27199296\n",
       "2020-02                         24104621\n",
       "2020-03                         24053468\n",
       "2020-04                         16007881\n",
       "2020-05                         16417212\n",
       "2020-06                         20690805\n",
       "2020-07                         22491437\n",
       "2020-08                         20150520\n",
       "2020-09                         26714255\n",
       "2020-10                         28301932\n",
       "2020-11                         25061602\n",
       "2020-12                         23535936\n",
       "2021-01                         22492069\n",
       "2021-02                         22399569\n",
       "2021-03                         27225424\n",
       "2021-04                         23879932\n",
       "2021-05                         23508395\n",
       "2021-06                         26784182\n",
       "2021-07                         25739219\n",
       "2021-08                         23852171\n",
       "2021-09                         28522501\n",
       "2021-10                         30303834\n",
       "2021-11                         30405070\n",
       "2021-12                         25140776\n",
       "2022-01                         25635474\n",
       "2022-02                         25355260\n",
       "2022-03                         29595038\n",
       "2022-04                         23913060\n",
       "2022-05                         27495508\n",
       "2022-06                         25828078\n",
       "total                          742804525"
      ]
     },
     "execution_count": 24,
     "metadata": {},
     "output_type": "execute_result"
    }
   ],
   "source": [
    "ar_monthly_apps = ar.groupby('appointment_month')[['count_of_appointments']].agg('sum')\n",
    "ar_monthly_apps.loc['total'] = ar_monthly_apps.sum()\n",
    "ar_monthly_apps"
   ]
  },
  {
   "cell_type": "code",
   "execution_count": 25,
   "id": "c277f091",
   "metadata": {},
   "outputs": [
    {
     "data": {
      "text/plain": [
       "Other Practice staff    241557\n",
       "GP                      226036\n",
       "Unknown                 129228\n",
       "Name: hcp_type, dtype: int64"
      ]
     },
     "execution_count": 25,
     "metadata": {},
     "output_type": "execute_result"
    }
   ],
   "source": [
    "# Group the data based on hcp type.\n",
    "ar_hcp = (ar['hcp_type'].value_counts())\n",
    "ar_hcp"
   ]
  },
  {
   "cell_type": "code",
   "execution_count": 26,
   "id": "4222d81c",
   "metadata": {},
   "outputs": [
    {
     "data": {
      "text/plain": [
       "Face-to-Face    180410\n",
       "Telephone       166483\n",
       "Home Visit      111194\n",
       "Unknown          79147\n",
       "Video/Online     59587\n",
       "Name: appointment_mode, dtype: int64"
      ]
     },
     "execution_count": 26,
     "metadata": {},
     "output_type": "execute_result"
    }
   ],
   "source": [
    "# Group the data based on hcp type.\n",
    "ar_mode = (ar['appointment_mode'].value_counts())\n",
    "ar_mode"
   ]
  },
  {
   "cell_type": "code",
   "execution_count": 27,
   "id": "605695d8",
   "metadata": {},
   "outputs": [
    {
     "data": {
      "text/plain": [
       "Same Day                  95502\n",
       "2 to 7 Days               92409\n",
       "1 Day                     88957\n",
       "8  to 14 Days             82698\n",
       "15  to 21 Days            73666\n",
       "22  to 28 Days            68755\n",
       "More than 28 Days         65147\n",
       "Unknown / Data Quality    29687\n",
       "Name: time_between_book_and_appointment, dtype: int64"
      ]
     },
     "execution_count": 27,
     "metadata": {},
     "output_type": "execute_result"
    }
   ],
   "source": [
    "ar_book = (ar['time_between_book_and_appointment'].value_counts())\n",
    "ar_book"
   ]
  },
  {
   "cell_type": "markdown",
   "id": "40455897",
   "metadata": {},
   "source": [
    "# 3. Explore the national categories data."
   ]
  },
  {
   "cell_type": "code",
   "execution_count": 29,
   "id": "95a71373",
   "metadata": {},
   "outputs": [
    {
     "name": "stdout",
     "output_type": "stream",
     "text": [
      "(817394, 8)\n",
      "appointment_date         datetime64[ns]\n",
      "icb_ons_code                     object\n",
      "sub_icb_location_name            object\n",
      "service_setting                  object\n",
      "context_type                     object\n",
      "national_category                object\n",
      "count_of_appointments             int64\n",
      "appointment_month        datetime64[ns]\n",
      "dtype: object\n"
     ]
    },
    {
     "data": {
      "text/html": [
       "<div>\n",
       "<style scoped>\n",
       "    .dataframe tbody tr th:only-of-type {\n",
       "        vertical-align: middle;\n",
       "    }\n",
       "\n",
       "    .dataframe tbody tr th {\n",
       "        vertical-align: top;\n",
       "    }\n",
       "\n",
       "    .dataframe thead th {\n",
       "        text-align: right;\n",
       "    }\n",
       "</style>\n",
       "<table border=\"1\" class=\"dataframe\">\n",
       "  <thead>\n",
       "    <tr style=\"text-align: right;\">\n",
       "      <th></th>\n",
       "      <th>appointment_date</th>\n",
       "      <th>icb_ons_code</th>\n",
       "      <th>sub_icb_location_name</th>\n",
       "      <th>service_setting</th>\n",
       "      <th>context_type</th>\n",
       "      <th>national_category</th>\n",
       "      <th>count_of_appointments</th>\n",
       "      <th>appointment_month</th>\n",
       "    </tr>\n",
       "  </thead>\n",
       "  <tbody>\n",
       "    <tr>\n",
       "      <th>0</th>\n",
       "      <td>2021-08-02</td>\n",
       "      <td>E54000050</td>\n",
       "      <td>NHS North East and North Cumbria ICB - 00L</td>\n",
       "      <td>Primary Care Network</td>\n",
       "      <td>Care Related Encounter</td>\n",
       "      <td>Patient contact during Care Home Round</td>\n",
       "      <td>3</td>\n",
       "      <td>2021-08-01</td>\n",
       "    </tr>\n",
       "    <tr>\n",
       "      <th>1</th>\n",
       "      <td>2021-08-02</td>\n",
       "      <td>E54000050</td>\n",
       "      <td>NHS North East and North Cumbria ICB - 00L</td>\n",
       "      <td>Other</td>\n",
       "      <td>Care Related Encounter</td>\n",
       "      <td>Planned Clinics</td>\n",
       "      <td>7</td>\n",
       "      <td>2021-08-01</td>\n",
       "    </tr>\n",
       "    <tr>\n",
       "      <th>2</th>\n",
       "      <td>2021-08-02</td>\n",
       "      <td>E54000050</td>\n",
       "      <td>NHS North East and North Cumbria ICB - 00L</td>\n",
       "      <td>General Practice</td>\n",
       "      <td>Care Related Encounter</td>\n",
       "      <td>Home Visit</td>\n",
       "      <td>79</td>\n",
       "      <td>2021-08-01</td>\n",
       "    </tr>\n",
       "    <tr>\n",
       "      <th>3</th>\n",
       "      <td>2021-08-02</td>\n",
       "      <td>E54000050</td>\n",
       "      <td>NHS North East and North Cumbria ICB - 00L</td>\n",
       "      <td>General Practice</td>\n",
       "      <td>Care Related Encounter</td>\n",
       "      <td>General Consultation Acute</td>\n",
       "      <td>725</td>\n",
       "      <td>2021-08-01</td>\n",
       "    </tr>\n",
       "    <tr>\n",
       "      <th>4</th>\n",
       "      <td>2021-08-02</td>\n",
       "      <td>E54000050</td>\n",
       "      <td>NHS North East and North Cumbria ICB - 00L</td>\n",
       "      <td>General Practice</td>\n",
       "      <td>Care Related Encounter</td>\n",
       "      <td>Structured Medication Review</td>\n",
       "      <td>2</td>\n",
       "      <td>2021-08-01</td>\n",
       "    </tr>\n",
       "  </tbody>\n",
       "</table>\n",
       "</div>"
      ],
      "text/plain": [
       "  appointment_date icb_ons_code                       sub_icb_location_name  \\\n",
       "0       2021-08-02    E54000050  NHS North East and North Cumbria ICB - 00L   \n",
       "1       2021-08-02    E54000050  NHS North East and North Cumbria ICB - 00L   \n",
       "2       2021-08-02    E54000050  NHS North East and North Cumbria ICB - 00L   \n",
       "3       2021-08-02    E54000050  NHS North East and North Cumbria ICB - 00L   \n",
       "4       2021-08-02    E54000050  NHS North East and North Cumbria ICB - 00L   \n",
       "\n",
       "        service_setting            context_type  \\\n",
       "0  Primary Care Network  Care Related Encounter   \n",
       "1                 Other  Care Related Encounter   \n",
       "2      General Practice  Care Related Encounter   \n",
       "3      General Practice  Care Related Encounter   \n",
       "4      General Practice  Care Related Encounter   \n",
       "\n",
       "                        national_category  count_of_appointments  \\\n",
       "0  Patient contact during Care Home Round                      3   \n",
       "1                         Planned Clinics                      7   \n",
       "2                              Home Visit                     79   \n",
       "3              General Consultation Acute                    725   \n",
       "4            Structured Medication Review                      2   \n",
       "\n",
       "  appointment_month  \n",
       "0        2021-08-01  \n",
       "1        2021-08-01  \n",
       "2        2021-08-01  \n",
       "3        2021-08-01  \n",
       "4        2021-08-01  "
      ]
     },
     "execution_count": 29,
     "metadata": {},
     "output_type": "execute_result"
    }
   ],
   "source": [
    "# Import the excel file. Create, view and validate the dataframe.\n",
    "nc = pd.read_excel('national_categories.xlsx')\n",
    "print(nc.shape)\n",
    "print(nc.dtypes)\n",
    "nc.head()"
   ]
  },
  {
   "cell_type": "code",
   "execution_count": 30,
   "id": "8d95433e",
   "metadata": {},
   "outputs": [
    {
     "name": "stdout",
     "output_type": "stream",
     "text": [
      "(42,)\n"
     ]
    }
   ],
   "source": [
    "# Find out the number of ons locations.\n",
    "nc_locations_ons = nc['icb_ons_code'].value_counts()\n",
    "print(nc_locations_ons.shape)"
   ]
  },
  {
   "cell_type": "code",
   "execution_count": 31,
   "id": "930e199e",
   "metadata": {},
   "outputs": [
    {
     "name": "stdout",
     "output_type": "stream",
     "text": [
      "Count of locations: \n",
      "(106,)\n"
     ]
    }
   ],
   "source": [
    "# Find and print out the number of locations based on sub location name.\n",
    "nc_locations_sub = nc['sub_icb_location_name'].value_counts()\n",
    "\n",
    "print(\"Count of locations: \")\n",
    "print(nc_locations_sub.shape)"
   ]
  },
  {
   "cell_type": "code",
   "execution_count": 32,
   "id": "742edcb0",
   "metadata": {},
   "outputs": [
    {
     "data": {
      "text/plain": [
       "296046770"
      ]
     },
     "execution_count": 32,
     "metadata": {},
     "output_type": "execute_result"
    }
   ],
   "source": [
    "# Calculate the number of appointments\n",
    "nc['count_of_appointments'].sum()"
   ]
  },
  {
   "cell_type": "code",
   "execution_count": 33,
   "id": "4c37faaa",
   "metadata": {},
   "outputs": [
    {
     "data": {
      "text/html": [
       "<div>\n",
       "<style scoped>\n",
       "    .dataframe tbody tr th:only-of-type {\n",
       "        vertical-align: middle;\n",
       "    }\n",
       "\n",
       "    .dataframe tbody tr th {\n",
       "        vertical-align: top;\n",
       "    }\n",
       "\n",
       "    .dataframe thead th {\n",
       "        text-align: right;\n",
       "    }\n",
       "</style>\n",
       "<table border=\"1\" class=\"dataframe\">\n",
       "  <thead>\n",
       "    <tr style=\"text-align: right;\">\n",
       "      <th></th>\n",
       "      <th>count_of_appointments</th>\n",
       "    </tr>\n",
       "    <tr>\n",
       "      <th>sub_icb_location_name</th>\n",
       "      <th></th>\n",
       "    </tr>\n",
       "  </thead>\n",
       "  <tbody>\n",
       "    <tr>\n",
       "      <th>NHS North West London ICB - W2U3Z</th>\n",
       "      <td>12142390</td>\n",
       "    </tr>\n",
       "    <tr>\n",
       "      <th>NHS North East London ICB - A3A8R</th>\n",
       "      <td>9588891</td>\n",
       "    </tr>\n",
       "    <tr>\n",
       "      <th>NHS Kent and Medway ICB - 91Q</th>\n",
       "      <td>9286167</td>\n",
       "    </tr>\n",
       "    <tr>\n",
       "      <th>NHS Hampshire and Isle Of Wight ICB - D9Y0V</th>\n",
       "      <td>8288102</td>\n",
       "    </tr>\n",
       "    <tr>\n",
       "      <th>NHS South East London ICB - 72Q</th>\n",
       "      <td>7850170</td>\n",
       "    </tr>\n",
       "    <tr>\n",
       "      <th>...</th>\n",
       "      <td>...</td>\n",
       "    </tr>\n",
       "    <tr>\n",
       "      <th>NHS Cheshire and Merseyside ICB - 01V</th>\n",
       "      <td>641149</td>\n",
       "    </tr>\n",
       "    <tr>\n",
       "      <th>NHS Nottingham and Nottinghamshire ICB - 02Q</th>\n",
       "      <td>639660</td>\n",
       "    </tr>\n",
       "    <tr>\n",
       "      <th>NHS Greater Manchester ICB - 00V</th>\n",
       "      <td>639211</td>\n",
       "    </tr>\n",
       "    <tr>\n",
       "      <th>NHS Cheshire and Merseyside ICB - 01T</th>\n",
       "      <td>606606</td>\n",
       "    </tr>\n",
       "    <tr>\n",
       "      <th>NHS Lancashire and South Cumbria ICB - 02G</th>\n",
       "      <td>554694</td>\n",
       "    </tr>\n",
       "  </tbody>\n",
       "</table>\n",
       "<p>106 rows × 1 columns</p>\n",
       "</div>"
      ],
      "text/plain": [
       "                                              count_of_appointments\n",
       "sub_icb_location_name                                              \n",
       "NHS North West London ICB - W2U3Z                          12142390\n",
       "NHS North East London ICB - A3A8R                           9588891\n",
       "NHS Kent and Medway ICB - 91Q                               9286167\n",
       "NHS Hampshire and Isle Of Wight ICB - D9Y0V                 8288102\n",
       "NHS South East London ICB - 72Q                             7850170\n",
       "...                                                             ...\n",
       "NHS Cheshire and Merseyside ICB - 01V                        641149\n",
       "NHS Nottingham and Nottinghamshire ICB - 02Q                 639660\n",
       "NHS Greater Manchester ICB - 00V                             639211\n",
       "NHS Cheshire and Merseyside ICB - 01T                        606606\n",
       "NHS Lancashire and South Cumbria ICB - 02G                   554694\n",
       "\n",
       "[106 rows x 1 columns]"
      ]
     },
     "execution_count": 33,
     "metadata": {},
     "output_type": "execute_result"
    }
   ],
   "source": [
    "# Find out which location has the highest number of appointments.\n",
    "nc_group_sub_location_name = nc.groupby('sub_icb_location_name')[['count_of_appointments']].agg('sum')\n",
    "\n",
    "nc_group_sub_location_name.sort_values(by=['count_of_appointments'], inplace=True, ascending=False)\n",
    "nc_group_sub_location_name[0:106]"
   ]
  },
  {
   "cell_type": "code",
   "execution_count": 34,
   "id": "880a50ea",
   "metadata": {},
   "outputs": [
    {
     "name": "stdout",
     "output_type": "stream",
     "text": [
      "NHS North West London ICB - W2U3Z              13007\n",
      "NHS Kent and Medway ICB - 91Q                  12637\n",
      "NHS Devon ICB - 15N                            12526\n",
      "NHS Hampshire and Isle Of Wight ICB - D9Y0V    12171\n",
      "NHS North East London ICB - A3A8R              11837\n",
      "                                               ...  \n",
      "NHS North East and North Cumbria ICB - 00N      4210\n",
      "NHS Lancashire and South Cumbria ICB - 02G      4169\n",
      "NHS Cheshire and Merseyside ICB - 01V           3496\n",
      "NHS Cheshire and Merseyside ICB - 01T           3242\n",
      "NHS Greater Manchester ICB - 00V                2170\n",
      "Name: sub_icb_location_name, Length: 106, dtype: int64\n"
     ]
    }
   ],
   "source": [
    "# Find out which location has the highest number of records.\n",
    "print(nc['sub_icb_location_name'].value_counts())"
   ]
  },
  {
   "cell_type": "code",
   "execution_count": 35,
   "id": "d35adc47",
   "metadata": {},
   "outputs": [
    {
     "name": "stdout",
     "output_type": "stream",
     "text": [
      "2022-06-28    3536\n",
      "2022-06-21    3530\n",
      "2022-05-17    3528\n",
      "2022-05-10    3521\n",
      "2022-06-07    3520\n",
      "              ... \n",
      "2021-08-22     221\n",
      "2022-01-01     219\n",
      "2022-04-17     202\n",
      "2021-12-25     201\n",
      "2021-12-26     164\n",
      "Name: appointment_date, Length: 334, dtype: int64\n"
     ]
    }
   ],
   "source": [
    "# Find the highest and lowest number of records by date.\n",
    "print(nc['appointment_date'].value_counts())"
   ]
  },
  {
   "cell_type": "code",
   "execution_count": 36,
   "id": "4955adc5",
   "metadata": {},
   "outputs": [],
   "source": [
    "# Change the datatype for the appointment date column.\n",
    "nc['appointment_date'] = pd.to_datetime(nc['appointment_date'])"
   ]
  },
  {
   "cell_type": "code",
   "execution_count": 37,
   "id": "ce7670f2",
   "metadata": {},
   "outputs": [
    {
     "name": "stdout",
     "output_type": "stream",
     "text": [
      "2021-08-01 00:00:00\n",
      "2022-06-30 00:00:00\n"
     ]
    }
   ],
   "source": [
    "# Find the earliest and latest records.\n",
    "print(nc['appointment_date'].min())\n",
    "print(nc['appointment_date'].max())"
   ]
  },
  {
   "cell_type": "code",
   "execution_count": 38,
   "id": "80d31e4a",
   "metadata": {},
   "outputs": [
    {
     "data": {
      "text/plain": [
       "2021-08-01    69999\n",
       "2021-09-01    74922\n",
       "2021-10-01    74078\n",
       "2021-11-01    77652\n",
       "2021-12-01    72651\n",
       "2022-01-01    71896\n",
       "2022-02-01    71769\n",
       "2022-03-01    82822\n",
       "2022-04-01    70012\n",
       "2022-05-01    77425\n",
       "2022-06-01    74168\n",
       "Name: appointment_month, dtype: int64"
      ]
     },
     "execution_count": 38,
     "metadata": {},
     "output_type": "execute_result"
    }
   ],
   "source": [
    "# Group the data based on appointment month.\n",
    "nc_month = (nc['appointment_month'].value_counts(sort=False))\n",
    "nc_month"
   ]
  },
  {
   "cell_type": "code",
   "execution_count": 39,
   "id": "c9d02c56",
   "metadata": {},
   "outputs": [
    {
     "data": {
      "text/html": [
       "<div>\n",
       "<style scoped>\n",
       "    .dataframe tbody tr th:only-of-type {\n",
       "        vertical-align: middle;\n",
       "    }\n",
       "\n",
       "    .dataframe tbody tr th {\n",
       "        vertical-align: top;\n",
       "    }\n",
       "\n",
       "    .dataframe thead th {\n",
       "        text-align: right;\n",
       "    }\n",
       "</style>\n",
       "<table border=\"1\" class=\"dataframe\">\n",
       "  <thead>\n",
       "    <tr style=\"text-align: right;\">\n",
       "      <th></th>\n",
       "      <th>count_of_appointments</th>\n",
       "    </tr>\n",
       "    <tr>\n",
       "      <th>appointment_month</th>\n",
       "      <th></th>\n",
       "    </tr>\n",
       "  </thead>\n",
       "  <tbody>\n",
       "    <tr>\n",
       "      <th>2021-08-01 00:00:00</th>\n",
       "      <td>23852171</td>\n",
       "    </tr>\n",
       "    <tr>\n",
       "      <th>2021-09-01 00:00:00</th>\n",
       "      <td>28522501</td>\n",
       "    </tr>\n",
       "    <tr>\n",
       "      <th>2021-10-01 00:00:00</th>\n",
       "      <td>30303834</td>\n",
       "    </tr>\n",
       "    <tr>\n",
       "      <th>2021-11-01 00:00:00</th>\n",
       "      <td>30405070</td>\n",
       "    </tr>\n",
       "    <tr>\n",
       "      <th>2021-12-01 00:00:00</th>\n",
       "      <td>25140776</td>\n",
       "    </tr>\n",
       "    <tr>\n",
       "      <th>2022-01-01 00:00:00</th>\n",
       "      <td>25635474</td>\n",
       "    </tr>\n",
       "    <tr>\n",
       "      <th>2022-02-01 00:00:00</th>\n",
       "      <td>25355260</td>\n",
       "    </tr>\n",
       "    <tr>\n",
       "      <th>2022-03-01 00:00:00</th>\n",
       "      <td>29595038</td>\n",
       "    </tr>\n",
       "    <tr>\n",
       "      <th>2022-04-01 00:00:00</th>\n",
       "      <td>23913060</td>\n",
       "    </tr>\n",
       "    <tr>\n",
       "      <th>2022-05-01 00:00:00</th>\n",
       "      <td>27495508</td>\n",
       "    </tr>\n",
       "    <tr>\n",
       "      <th>2022-06-01 00:00:00</th>\n",
       "      <td>25828078</td>\n",
       "    </tr>\n",
       "    <tr>\n",
       "      <th>total</th>\n",
       "      <td>296046770</td>\n",
       "    </tr>\n",
       "  </tbody>\n",
       "</table>\n",
       "</div>"
      ],
      "text/plain": [
       "                     count_of_appointments\n",
       "appointment_month                         \n",
       "2021-08-01 00:00:00               23852171\n",
       "2021-09-01 00:00:00               28522501\n",
       "2021-10-01 00:00:00               30303834\n",
       "2021-11-01 00:00:00               30405070\n",
       "2021-12-01 00:00:00               25140776\n",
       "2022-01-01 00:00:00               25635474\n",
       "2022-02-01 00:00:00               25355260\n",
       "2022-03-01 00:00:00               29595038\n",
       "2022-04-01 00:00:00               23913060\n",
       "2022-05-01 00:00:00               27495508\n",
       "2022-06-01 00:00:00               25828078\n",
       "total                            296046770"
      ]
     },
     "execution_count": 39,
     "metadata": {},
     "output_type": "execute_result"
    }
   ],
   "source": [
    "nc_monthly = nc.groupby('appointment_month')[['count_of_appointments']].agg('sum')\n",
    "nc_monthly.loc['total'] = nc_monthly.sum()\n",
    "nc_monthly"
   ]
  },
  {
   "cell_type": "code",
   "execution_count": 40,
   "id": "2a4ea423",
   "metadata": {},
   "outputs": [
    {
     "data": {
      "text/plain": [
       "Primary Care Network         183790\n",
       "Other                        138789\n",
       "General Practice             359274\n",
       "Unmapped                      27419\n",
       "Extended Access Provision    108122\n",
       "Name: service_setting, dtype: int64"
      ]
     },
     "execution_count": 40,
     "metadata": {},
     "output_type": "execute_result"
    }
   ],
   "source": [
    "# Group the data based on appointment month.\n",
    "nc_service = (nc['service_setting'].value_counts(sort=False))\n",
    "nc_service"
   ]
  },
  {
   "cell_type": "code",
   "execution_count": 41,
   "id": "beb566f3",
   "metadata": {},
   "outputs": [
    {
     "data": {
      "text/plain": [
       "Care Related Encounter    700481\n",
       "Unmapped                   27419\n",
       "Inconsistent Mapping       89494\n",
       "Name: context_type, dtype: int64"
      ]
     },
     "execution_count": 41,
     "metadata": {},
     "output_type": "execute_result"
    }
   ],
   "source": [
    "# Group the data based on appointment month.\n",
    "nc_context = (nc['context_type'].value_counts(sort=False))\n",
    "nc_context"
   ]
  },
  {
   "cell_type": "code",
   "execution_count": 54,
   "id": "0aac5da0",
   "metadata": {},
   "outputs": [
    {
     "data": {
      "text/plain": [
       "Inconsistent Mapping                                                   89494\n",
       "General Consultation Routine                                           89329\n",
       "General Consultation Acute                                             84874\n",
       "Planned Clinics                                                        76429\n",
       "Clinical Triage                                                        74539\n",
       "Planned Clinical Procedure                                             59631\n",
       "Structured Medication Review                                           44467\n",
       "Service provided by organisation external to the practice              43095\n",
       "Home Visit                                                             41850\n",
       "Unplanned Clinical Activity                                            40415\n",
       "Patient contact during Care Home Round                                 28795\n",
       "Unmapped                                                               27419\n",
       "Care Home Visit                                                        26644\n",
       "Social Prescribing Service                                             26492\n",
       "Care Home Needs Assessment & Personalised Care and Support Planning    23505\n",
       "Non-contractual chargeable work                                        20896\n",
       "Walk-in                                                                14179\n",
       "Group Consultation and Group Education                                  5341\n",
       "Name: national_category, dtype: int64"
      ]
     },
     "execution_count": 54,
     "metadata": {},
     "output_type": "execute_result"
    }
   ],
   "source": [
    "# Group the data based on appointment month.\n",
    "nc_category = (nc['national_category'].value_counts(sort=True))\n",
    "nc_category"
   ]
  },
  {
   "cell_type": "code",
   "execution_count": 65,
   "id": "e8e1380a",
   "metadata": {},
   "outputs": [
    {
     "data": {
      "text/html": [
       "<div>\n",
       "<style scoped>\n",
       "    .dataframe tbody tr th:only-of-type {\n",
       "        vertical-align: middle;\n",
       "    }\n",
       "\n",
       "    .dataframe tbody tr th {\n",
       "        vertical-align: top;\n",
       "    }\n",
       "\n",
       "    .dataframe thead th {\n",
       "        text-align: right;\n",
       "    }\n",
       "</style>\n",
       "<table border=\"1\" class=\"dataframe\">\n",
       "  <thead>\n",
       "    <tr style=\"text-align: right;\">\n",
       "      <th></th>\n",
       "      <th>count_of_appointments</th>\n",
       "    </tr>\n",
       "    <tr>\n",
       "      <th>national_category</th>\n",
       "      <th></th>\n",
       "    </tr>\n",
       "  </thead>\n",
       "  <tbody>\n",
       "    <tr>\n",
       "      <th>General Consultation Routine</th>\n",
       "      <td>97271522</td>\n",
       "    </tr>\n",
       "    <tr>\n",
       "      <th>General Consultation Acute</th>\n",
       "      <td>53691150</td>\n",
       "    </tr>\n",
       "    <tr>\n",
       "      <th>Clinical Triage</th>\n",
       "      <td>41546964</td>\n",
       "    </tr>\n",
       "    <tr>\n",
       "      <th>Planned Clinics</th>\n",
       "      <td>28019748</td>\n",
       "    </tr>\n",
       "    <tr>\n",
       "      <th>Inconsistent Mapping</th>\n",
       "      <td>27890802</td>\n",
       "    </tr>\n",
       "    <tr>\n",
       "      <th>Planned Clinical Procedure</th>\n",
       "      <td>25702694</td>\n",
       "    </tr>\n",
       "    <tr>\n",
       "      <th>Unmapped</th>\n",
       "      <td>11080810</td>\n",
       "    </tr>\n",
       "    <tr>\n",
       "      <th>Unplanned Clinical Activity</th>\n",
       "      <td>3055794</td>\n",
       "    </tr>\n",
       "    <tr>\n",
       "      <th>Home Visit</th>\n",
       "      <td>2144452</td>\n",
       "    </tr>\n",
       "    <tr>\n",
       "      <th>Structured Medication Review</th>\n",
       "      <td>1858379</td>\n",
       "    </tr>\n",
       "    <tr>\n",
       "      <th>Service provided by organisation external to the practice</th>\n",
       "      <td>852133</td>\n",
       "    </tr>\n",
       "    <tr>\n",
       "      <th>Patient contact during Care Home Round</th>\n",
       "      <td>810330</td>\n",
       "    </tr>\n",
       "    <tr>\n",
       "      <th>Care Home Visit</th>\n",
       "      <td>628279</td>\n",
       "    </tr>\n",
       "    <tr>\n",
       "      <th>Social Prescribing Service</th>\n",
       "      <td>475828</td>\n",
       "    </tr>\n",
       "    <tr>\n",
       "      <th>Walk-in</th>\n",
       "      <td>412438</td>\n",
       "    </tr>\n",
       "    <tr>\n",
       "      <th>Care Home Needs Assessment &amp; Personalised Care and Support Planning</th>\n",
       "      <td>405904</td>\n",
       "    </tr>\n",
       "    <tr>\n",
       "      <th>Non-contractual chargeable work</th>\n",
       "      <td>138911</td>\n",
       "    </tr>\n",
       "    <tr>\n",
       "      <th>Group Consultation and Group Education</th>\n",
       "      <td>60632</td>\n",
       "    </tr>\n",
       "  </tbody>\n",
       "</table>\n",
       "</div>"
      ],
      "text/plain": [
       "                                                    count_of_appointments\n",
       "national_category                                                        \n",
       "General Consultation Routine                                     97271522\n",
       "General Consultation Acute                                       53691150\n",
       "Clinical Triage                                                  41546964\n",
       "Planned Clinics                                                  28019748\n",
       "Inconsistent Mapping                                             27890802\n",
       "Planned Clinical Procedure                                       25702694\n",
       "Unmapped                                                         11080810\n",
       "Unplanned Clinical Activity                                       3055794\n",
       "Home Visit                                                        2144452\n",
       "Structured Medication Review                                      1858379\n",
       "Service provided by organisation external to th...                 852133\n",
       "Patient contact during Care Home Round                             810330\n",
       "Care Home Visit                                                    628279\n",
       "Social Prescribing Service                                         475828\n",
       "Walk-in                                                            412438\n",
       "Care Home Needs Assessment & Personalised Care ...                 405904\n",
       "Non-contractual chargeable work                                    138911\n",
       "Group Consultation and Group Education                              60632"
      ]
     },
     "execution_count": 65,
     "metadata": {},
     "output_type": "execute_result"
    }
   ],
   "source": [
    "nc_category_apps = nc.groupby('national_category')[['count_of_appointments']].agg('sum')\n",
    "nc_category_apps.sort_values(('count_of_appointments'), ascending=False)"
   ]
  },
  {
   "cell_type": "code",
   "execution_count": null,
   "id": "c719bf38",
   "metadata": {},
   "outputs": [],
   "source": [
    "# Finally, check for missing data.\n",
    "ad_na = ad[ad.isna().any(axis=1)]\n",
    "ar_na = ar[ar.isna().any(axis=1)]\n",
    "nc_na = nc[nc.isna().any(axis=1)]\n",
    "\n",
    "print(ad_na.shape)\n",
    "print(ar_na.shape)\n",
    "print(nc_na.shape)"
   ]
  },
  {
   "cell_type": "code",
   "execution_count": null,
   "id": "ffe34d2d",
   "metadata": {},
   "outputs": [],
   "source": [
    "difference between the percentage of inconsistence mapping in appointments and records\n",
    "date range for different dataframes"
   ]
  }
 ],
 "metadata": {
  "kernelspec": {
   "display_name": "Python 3 (ipykernel)",
   "language": "python",
   "name": "python3"
  },
  "language_info": {
   "codemirror_mode": {
    "name": "ipython",
    "version": 3
   },
   "file_extension": ".py",
   "mimetype": "text/x-python",
   "name": "python",
   "nbconvert_exporter": "python",
   "pygments_lexer": "ipython3",
   "version": "3.9.12"
  }
 },
 "nbformat": 4,
 "nbformat_minor": 5
}
