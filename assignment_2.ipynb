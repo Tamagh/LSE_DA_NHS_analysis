{
 "cells": [
  {
   "cell_type": "code",
   "execution_count": null,
   "id": "79030fa8",
   "metadata": {},
   "outputs": [],
   "source": [
    "# Import the Pandas and DateTime libraries.\n",
    "import pandas as pd\n",
    "import datetime\n",
    "\n",
    "# Load the data set.\n",
    "ad = pd.read_csv('actual_duration.csv')\n",
    "ar = pd.read_csv('appointments_regional.csv')\n",
    "nc = pd.read_excel('national_categories.xlsx')"
   ]
  },
  {
   "cell_type": "markdown",
   "id": "24aedb17",
   "metadata": {},
   "source": [
    "# 1. Explore the actual duration data."
   ]
  },
  {
   "cell_type": "code",
   "execution_count": null,
   "id": "d768d3f1",
   "metadata": {},
   "outputs": [],
   "source": [
    "# View and validate the 'ad' dataframe.\n",
    "print(ad.shape)\n",
    "print(ad.dtypes)\n",
    "ad.head()"
   ]
  },
  {
   "cell_type": "code",
   "execution_count": null,
   "id": "174a402c",
   "metadata": {},
   "outputs": [],
   "source": [
    "# Find out the number of locations based on the 'ad' dataframe.\n",
    "ad_locations = ad['sub_icb_location_name'].value_counts()\n",
    "\n",
    "print(ad_locations.shape)"
   ]
  },
  {
   "cell_type": "code",
   "execution_count": null,
   "id": "e0cd4929",
   "metadata": {},
   "outputs": [],
   "source": [
    "# Find out the number of sub location codes.\n",
    "print(ad['sub_icb_location_code'].value_counts())"
   ]
  },
  {
   "cell_type": "code",
   "execution_count": null,
   "id": "ce167460",
   "metadata": {},
   "outputs": [],
   "source": [
    "# Find out the number of ons locations.\n",
    "ad_locations_ons = ad['icb_ons_code'].value_counts()\n",
    "print(ad_locations_ons.shape)"
   ]
  },
  {
   "cell_type": "code",
   "execution_count": null,
   "id": "b96138cd",
   "metadata": {},
   "outputs": [],
   "source": [
    "# Calculate the number of appointments.\n",
    "ad['count_of_appointments'].sum()"
   ]
  },
  {
   "cell_type": "code",
   "execution_count": null,
   "id": "9afc5d48",
   "metadata": {},
   "outputs": [],
   "source": [
    "print(ad['count_of_appointments'].min())\n",
    "print(ad['count_of_appointments'].max())"
   ]
  },
  {
   "cell_type": "code",
   "execution_count": null,
   "id": "8d11d8d4",
   "metadata": {},
   "outputs": [],
   "source": [
    "# Which location had the highest number of appointments?\n",
    "group_sub_location = ad.groupby('sub_icb_location_ons_code')[['count_of_appointments']].agg('sum')\n",
    "\n",
    "group_sub_location.sort_values(by=['count_of_appointments'], inplace=True, ascending=False)\n",
    "group_sub_location"
   ]
  },
  {
   "cell_type": "code",
   "execution_count": null,
   "id": "a30b5670",
   "metadata": {},
   "outputs": [],
   "source": [
    "# List the top 10 location names by appointments.\n",
    "group_sub_location_name = ad.groupby('sub_icb_location_name')[['count_of_appointments']].agg('sum')\n",
    "\n",
    "group_sub_location_name.sort_values(by=['count_of_appointments'], inplace=True, ascending=False)\n",
    "group_sub_location_name[0:10]"
   ]
  },
  {
   "cell_type": "code",
   "execution_count": null,
   "id": "ff2a0bb1",
   "metadata": {},
   "outputs": [],
   "source": [
    "# Find out which location has the highest number of records.\n",
    "print(ad['sub_icb_location_name'].value_counts())"
   ]
  },
  {
   "cell_type": "code",
   "execution_count": null,
   "id": "85f08d5f",
   "metadata": {},
   "outputs": [],
   "source": [
    "# Find the highest and lowest number of records by date.\n",
    "print(ad['appointment_date'].value_counts())"
   ]
  },
  {
   "cell_type": "code",
   "execution_count": null,
   "id": "cff6bac9",
   "metadata": {},
   "outputs": [],
   "source": [
    "# Change the datatype for the appointment date column.\n",
    "ad['appointment_date'] = pd.to_datetime(ad['appointment_date']).dt.date"
   ]
  },
  {
   "cell_type": "code",
   "execution_count": null,
   "id": "7ce2b712",
   "metadata": {},
   "outputs": [],
   "source": [
    "# Find the earliest and latest records.\n",
    "print(ad['appointment_date'].min())\n",
    "print(ad['appointment_date'].max())"
   ]
  },
  {
   "cell_type": "code",
   "execution_count": null,
   "id": "427d83b6",
   "metadata": {},
   "outputs": [],
   "source": [
    "# Group the data based on duration.\n",
    "print(ad['actual_duration'].value_counts())"
   ]
  },
  {
   "cell_type": "code",
   "execution_count": null,
   "id": "1a5e35ec",
   "metadata": {},
   "outputs": [],
   "source": [
    "ad.describe()"
   ]
  },
  {
   "cell_type": "markdown",
   "id": "ef81c8c4",
   "metadata": {},
   "source": [
    "# 2. Explore the appointment regional data."
   ]
  },
  {
   "cell_type": "code",
   "execution_count": null,
   "id": "2751c632",
   "metadata": {
    "scrolled": true
   },
   "outputs": [],
   "source": [
    "# View and validate the 'ar' dataframe.\n",
    "print(ad.shape)\n",
    "print(ad.dtypes)\n",
    "ad.head()"
   ]
  },
  {
   "cell_type": "code",
   "execution_count": null,
   "id": "1aae5f80",
   "metadata": {},
   "outputs": [],
   "source": [
    "# Find out the number of ons locations.\n",
    "ar_locations_ons = ar['icb_ons_code'].value_counts()\n",
    "\n",
    "print(ad_locations_ons.shape)"
   ]
  },
  {
   "cell_type": "code",
   "execution_count": null,
   "id": "690e8ee7",
   "metadata": {},
   "outputs": [],
   "source": [
    "# Calculate the number of appointments\n",
    "ar['count_of_appointments'].sum()"
   ]
  },
  {
   "cell_type": "code",
   "execution_count": null,
   "id": "50111693",
   "metadata": {},
   "outputs": [],
   "source": [
    "print(ar['count_of_appointments'].min())\n",
    "print(ar['count_of_appointments'].max())"
   ]
  },
  {
   "cell_type": "code",
   "execution_count": null,
   "id": "35ed99ea",
   "metadata": {},
   "outputs": [],
   "source": [
    "sorted_ar = ar.sort_values(by=['count_of_appointments'], ascending=False)\n",
    "sorted_ar.head()"
   ]
  },
  {
   "cell_type": "code",
   "execution_count": null,
   "id": "f7980706",
   "metadata": {},
   "outputs": [],
   "source": [
    "# Group the data based on duration.\n",
    "ar_month = (ar['appointment_month'].value_counts(sort=False))\n",
    "ar_month"
   ]
  },
  {
   "cell_type": "code",
   "execution_count": null,
   "id": "87f9aca1",
   "metadata": {},
   "outputs": [],
   "source": [
    "# Group the data based on appointment status.\n",
    "ar_status = (ar['appointment_status'].value_counts())\n",
    "ar_status"
   ]
  },
  {
   "cell_type": "code",
   "execution_count": null,
   "id": "47155618",
   "metadata": {},
   "outputs": [],
   "source": [
    "print('Number of appointment statuses:', (ar_status.count()))"
   ]
  },
  {
   "cell_type": "code",
   "execution_count": null,
   "id": "eb009d8b",
   "metadata": {},
   "outputs": [],
   "source": [
    "ar_monthly = ar.groupby('appointment_month')[['appointment_status']].agg('value_counts')\n",
    "ar_monthly[0:20]"
   ]
  },
  {
   "cell_type": "code",
   "execution_count": null,
   "id": "070e8f86",
   "metadata": {},
   "outputs": [],
   "source": [
    "ar_monthly_apps = ar.groupby('appointment_month')[['count_of_appointments']].agg('sum')\n",
    "ar_monthly_apps.loc['total'] = ar_monthly_apps.sum()\n",
    "ar_monthly_apps"
   ]
  },
  {
   "cell_type": "code",
   "execution_count": null,
   "id": "c277f091",
   "metadata": {},
   "outputs": [],
   "source": [
    "# Group the data based on hcp type.\n",
    "ar_hcp = (ar['hcp_type'].value_counts())\n",
    "ar_hcp"
   ]
  },
  {
   "cell_type": "code",
   "execution_count": null,
   "id": "4222d81c",
   "metadata": {},
   "outputs": [],
   "source": [
    "# Group the data based on hcp type.\n",
    "ar_mode = (ar['appointment_mode'].value_counts())\n",
    "ar_mode"
   ]
  },
  {
   "cell_type": "code",
   "execution_count": null,
   "id": "605695d8",
   "metadata": {},
   "outputs": [],
   "source": [
    "ar_book = (ar['time_between_book_and_appointment'].value_counts())\n",
    "ar_book"
   ]
  },
  {
   "cell_type": "code",
   "execution_count": null,
   "id": "a5248da4",
   "metadata": {},
   "outputs": [],
   "source": [
    "ar.describe()"
   ]
  },
  {
   "cell_type": "markdown",
   "id": "40455897",
   "metadata": {},
   "source": [
    "# 3. Explore the national categories data."
   ]
  },
  {
   "cell_type": "code",
   "execution_count": null,
   "id": "95a71373",
   "metadata": {},
   "outputs": [],
   "source": [
    "# view and validate the dataframe.\n",
    "print(nc.shape)\n",
    "print(nc.dtypes)\n",
    "nc.head()"
   ]
  },
  {
   "cell_type": "code",
   "execution_count": null,
   "id": "8d95433e",
   "metadata": {},
   "outputs": [],
   "source": [
    "# Find out the number of ons locations.\n",
    "nc_locations_ons = nc['icb_ons_code'].value_counts()\n",
    "print(nc_locations_ons.shape)"
   ]
  },
  {
   "cell_type": "code",
   "execution_count": null,
   "id": "930e199e",
   "metadata": {},
   "outputs": [],
   "source": [
    "# Find and print out the number of locations based on sub location name.\n",
    "nc_locations_sub = nc['sub_icb_location_name'].value_counts()\n",
    "\n",
    "print(\"Count of locations: \")\n",
    "print(nc_locations_sub.shape)"
   ]
  },
  {
   "cell_type": "code",
   "execution_count": null,
   "id": "742edcb0",
   "metadata": {},
   "outputs": [],
   "source": [
    "# Calculate the number of appointments\n",
    "nc['count_of_appointments'].sum()"
   ]
  },
  {
   "cell_type": "code",
   "execution_count": null,
   "id": "4c37faaa",
   "metadata": {},
   "outputs": [],
   "source": [
    "# Find out which location has the highest number of appointments.\n",
    "nc_group_sub_location_name = nc.groupby('sub_icb_location_name')[['count_of_appointments']].agg('sum')\n",
    "\n",
    "nc_group_sub_location_name.sort_values(by=['count_of_appointments'], inplace=True, ascending=False)\n",
    "nc_group_sub_location_name[0:106]"
   ]
  },
  {
   "cell_type": "code",
   "execution_count": null,
   "id": "880a50ea",
   "metadata": {},
   "outputs": [],
   "source": [
    "# Find out which five location has the highest number of records.\n",
    "print(nc['sub_icb_location_name'].value_counts())"
   ]
  },
  {
   "cell_type": "code",
   "execution_count": null,
   "id": "d35adc47",
   "metadata": {},
   "outputs": [],
   "source": [
    "# Find the highest and lowest number of records by date.\n",
    "print(nc['appointment_date'].value_counts())"
   ]
  },
  {
   "cell_type": "code",
   "execution_count": null,
   "id": "4955adc5",
   "metadata": {},
   "outputs": [],
   "source": [
    "# Change the datatype for the appointment date column.\n",
    "nc['appointment_date'] = pd.to_datetime(nc['appointment_date']).dt.date"
   ]
  },
  {
   "cell_type": "code",
   "execution_count": null,
   "id": "ce7670f2",
   "metadata": {},
   "outputs": [],
   "source": [
    "# Find the earliest and latest records.\n",
    "print(nc['appointment_date'].min())\n",
    "print(nc['appointment_date'].max())"
   ]
  },
  {
   "cell_type": "code",
   "execution_count": null,
   "id": "80d31e4a",
   "metadata": {},
   "outputs": [],
   "source": [
    "# Group the data based on appointment month.\n",
    "nc_month = (nc['appointment_month'].value_counts(sort=False))\n",
    "nc_month"
   ]
  },
  {
   "cell_type": "code",
   "execution_count": null,
   "id": "c9d02c56",
   "metadata": {},
   "outputs": [],
   "source": [
    "nc_monthly = nc.groupby('appointment_month')[['count_of_appointments']].agg('sum')\n",
    "nc_monthly.loc['total'] = nc_monthly.sum()\n",
    "nc_monthly"
   ]
  },
  {
   "cell_type": "code",
   "execution_count": null,
   "id": "2a4ea423",
   "metadata": {},
   "outputs": [],
   "source": [
    "# Group the data based on appointment month.\n",
    "nc_service = (nc['service_setting'].value_counts(sort=False))\n",
    "nc_service"
   ]
  },
  {
   "cell_type": "code",
   "execution_count": null,
   "id": "76c673f9",
   "metadata": {},
   "outputs": [],
   "source": [
    "print('Number of service settings:', (nc_service.count()))"
   ]
  },
  {
   "cell_type": "code",
   "execution_count": null,
   "id": "beb566f3",
   "metadata": {},
   "outputs": [],
   "source": [
    "# Group the data based on appointment month.\n",
    "nc_context = (nc['context_type'].value_counts(sort=False))\n",
    "nc_context"
   ]
  },
  {
   "cell_type": "code",
   "execution_count": null,
   "id": "b01b77bf",
   "metadata": {},
   "outputs": [],
   "source": [
    "# Count types.\n",
    "print('Number of context types:', (nc_context.count()))"
   ]
  },
  {
   "cell_type": "code",
   "execution_count": null,
   "id": "ad8b0498",
   "metadata": {},
   "outputs": [],
   "source": [
    "# Group the data based on appointment month.\n",
    "nc_category = (nc['national_category'].value_counts(sort=False))\n",
    "print('Number of national categories:', (nc_category.count()))"
   ]
  },
  {
   "cell_type": "code",
   "execution_count": null,
   "id": "0aac5da0",
   "metadata": {},
   "outputs": [],
   "source": [
    "# Group the data based on appointment month.\n",
    "nc_category = (nc['national_category'].value_counts(sort=True))\n",
    "nc_category"
   ]
  },
  {
   "cell_type": "code",
   "execution_count": null,
   "id": "e8e1380a",
   "metadata": {},
   "outputs": [],
   "source": [
    "nc_category_apps = nc.groupby('national_category')[['count_of_appointments']].agg('sum')\n",
    "nc_category_apps.sort_values(('count_of_appointments'), ascending=False)"
   ]
  },
  {
   "cell_type": "code",
   "execution_count": null,
   "id": "ffe34d2d",
   "metadata": {},
   "outputs": [],
   "source": [
    "nc.describe()"
   ]
  },
  {
   "cell_type": "code",
   "execution_count": null,
   "id": "f46303da",
   "metadata": {},
   "outputs": [],
   "source": [
    "# Check for missing data.\n",
    "ad_na = ad[ad.isna().any(axis=1)]\n",
    "ar_na = ar[ar.isna().any(axis=1)]\n",
    "nc_na = nc[nc.isna().any(axis=1)]\n",
    "\n",
    "print(ad_na.shape)\n",
    "print(ar_na.shape)\n",
    "print(nc_na.shape)"
   ]
  },
  {
   "cell_type": "markdown",
   "id": "6f8e55f7",
   "metadata": {},
   "source": [
    "# Activity 3"
   ]
  },
  {
   "cell_type": "code",
   "execution_count": null,
   "id": "1342f9be",
   "metadata": {},
   "outputs": [],
   "source": [
    "# Find the earliest and latest records for ad, already done in activity 2.\n",
    "print('The ad DataFrame covers appointments from', \n",
    "      (ad['appointment_date'].min()), \n",
    "      'to', (ad['appointment_date'].max()))"
   ]
  },
  {
   "cell_type": "code",
   "execution_count": null,
   "id": "c38c4cf6",
   "metadata": {},
   "outputs": [],
   "source": [
    "# Find the earliest and latest records for nc, already done in activity 2.\n",
    "print('The nc DataFrame covers appointments from', \n",
    "      (nc['appointment_date'].min()), \n",
    "      'to', (nc['appointment_date'].max()))"
   ]
  },
  {
   "cell_type": "code",
   "execution_count": null,
   "id": "1d4ca669",
   "metadata": {},
   "outputs": [],
   "source": [
    "nc_subset = nc[nc['sub_icb_location_name'] == 'NHS North West London ICB - W2U3Z']\n",
    "nc_subset"
   ]
  },
  {
   "cell_type": "code",
   "execution_count": null,
   "id": "eb540c14",
   "metadata": {},
   "outputs": [],
   "source": [
    "nc_sub_filtered = nc_subset[(nc_subset['appointment_date']>=datetime.date(2022,1,1))\n",
    "                            & (nc_subset['appointment_date']<=datetime.date(2022,6,1))] \n",
    "nc_sub_filtered"
   ]
  },
  {
   "cell_type": "code",
   "execution_count": null,
   "id": "95604d9b",
   "metadata": {},
   "outputs": [],
   "source": [
    "nc_final = nc_sub_filtered.groupby('service_setting').agg('count')\n",
    "nc_final.loc['total'] = nc_final.sum()\n",
    "nc_final.sort_values(by='service_setting')"
   ]
  },
  {
   "cell_type": "code",
   "execution_count": null,
   "id": "55df9b59",
   "metadata": {},
   "outputs": [],
   "source": [
    "nc_final2 = nc_sub_filtered.groupby('context_type').agg('count')\n",
    "nc_final2.loc['total'] = nc_final2.sum()\n",
    "nc_final2.sort_values(by='context_type')"
   ]
  },
  {
   "cell_type": "code",
   "execution_count": null,
   "id": "bd1fbb0b",
   "metadata": {},
   "outputs": [],
   "source": [
    "nc_final3 = nc_sub_filtered.groupby('national_category').agg('count')\n",
    "nc_final3.loc['total'] = nc_final3.sum()\n",
    "nc_final3.sort_values(by='national_category')"
   ]
  },
  {
   "cell_type": "code",
   "execution_count": null,
   "id": "5919e9dd",
   "metadata": {},
   "outputs": [],
   "source": [
    "# Number of appointments per month == sum of count_of_appointments by month.\n",
    "# Use the groupby() and sort_values() functions.\n",
    "\n",
    "nc_daily_apps = nc.groupby('appointment_date')[['count_of_appointments']].agg('sum')\n",
    "nc_daily_apps\n"
   ]
  },
  {
   "cell_type": "code",
   "execution_count": null,
   "id": "c46fc336",
   "metadata": {},
   "outputs": [],
   "source": [
    "print(nc.dtypes)"
   ]
  },
  {
   "cell_type": "code",
   "execution_count": null,
   "id": "9a0bd8a4",
   "metadata": {},
   "outputs": [],
   "source": [
    "# Change the datatype for the appointment date column.\n",
    "nc['appointment_date'] = pd.to_datetime(nc['appointment_date'])\n",
    "\n",
    "print(nc.dtypes)"
   ]
  },
  {
   "cell_type": "code",
   "execution_count": null,
   "id": "13963366",
   "metadata": {},
   "outputs": [],
   "source": [
    "#Calculate the number of appointments per month.\n",
    "nc_monthly_apps = nc.groupby([nc['appointment_date'].dt.year, nc['appointment_date'].dt.month]).agg('sum')\n",
    "nc_monthly_apps.loc['total'] = nc_monthly_apps.sum()\n",
    "nc_monthly_apps"
   ]
  },
  {
   "cell_type": "code",
   "execution_count": null,
   "id": "e7994990",
   "metadata": {},
   "outputs": [],
   "source": [
    "#Calculate the number of records per month.\n",
    "nc_monthly_apps = nc.groupby([nc['appointment_date'].dt.year, nc['appointment_date'].dt.month]).agg('count')\n",
    "nc_monthly_apps.loc['total'] = nc_monthly_apps.sum()\n",
    "nc_monthly_apps.iloc[:,[0]]"
   ]
  },
  {
   "cell_type": "code",
   "execution_count": null,
   "id": "a14fbeec",
   "metadata": {},
   "outputs": [],
   "source": []
  },
  {
   "cell_type": "code",
   "execution_count": null,
   "id": "22621200",
   "metadata": {},
   "outputs": [],
   "source": []
  },
  {
   "cell_type": "code",
   "execution_count": null,
   "id": "37f008c5",
   "metadata": {},
   "outputs": [],
   "source": []
  },
  {
   "cell_type": "code",
   "execution_count": null,
   "id": "eab02db8",
   "metadata": {},
   "outputs": [],
   "source": []
  }
 ],
 "metadata": {
  "kernelspec": {
   "display_name": "Python 3 (ipykernel)",
   "language": "python",
   "name": "python3"
  },
  "language_info": {
   "codemirror_mode": {
    "name": "ipython",
    "version": 3
   },
   "file_extension": ".py",
   "mimetype": "text/x-python",
   "name": "python",
   "nbconvert_exporter": "python",
   "pygments_lexer": "ipython3",
   "version": "3.9.12"
  }
 },
 "nbformat": 4,
 "nbformat_minor": 5
}
