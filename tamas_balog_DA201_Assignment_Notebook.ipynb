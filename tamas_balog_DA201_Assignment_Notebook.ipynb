{
 "cells": [
  {
   "cell_type": "markdown",
   "id": "86446b4b",
   "metadata": {},
   "source": [
    "### LSE Data Analytics Online Career Accelerator\n",
    "\n",
    "# Course 2: Data Analytics using Python\n"
   ]
  },
  {
   "cell_type": "markdown",
   "id": "14b4c020",
   "metadata": {},
   "source": [
    "# "
   ]
  },
  {
   "cell_type": "markdown",
   "id": "a252b099",
   "metadata": {},
   "source": [
    "# Assignment activity 1"
   ]
  },
  {
   "cell_type": "code",
   "execution_count": null,
   "id": "a98b9693",
   "metadata": {},
   "outputs": [],
   "source": [
    "# My GitHub repository.\n",
    "# https://github.com/Tamagh"
   ]
  },
  {
   "cell_type": "markdown",
   "id": "73d8e020",
   "metadata": {},
   "source": [
    "# Assignment activity 2"
   ]
  },
  {
   "cell_type": "code",
   "execution_count": null,
   "id": "79030fa8",
   "metadata": {},
   "outputs": [],
   "source": [
    "# Import the Pandas and DateTime libraries.\n",
    "import pandas as pd\n",
    "import datetime\n",
    "import seaborn as sns\n",
    "\n",
    "# Load the data set.\n",
    "ad = pd.read_csv('actual_duration.csv')\n",
    "ar = pd.read_csv('appointments_regional.csv')\n",
    "nc = pd.read_excel('national_categories.xlsx')"
   ]
  },
  {
   "cell_type": "code",
   "execution_count": null,
   "id": "228cb303",
   "metadata": {},
   "outputs": [],
   "source": [
    "# Set up matplotlib.\n",
    "import matplotlib as mpl\n",
    "import matplotlib.pyplot as plt\n",
    "mpl.rcParams[\"font.size\"] = 18\n",
    "plt.plot([1,2,3], label = 'label')\n",
    "plt.xlabel('xaxis')\n",
    "plt.ylabel('yaxis')\n",
    "plt.legend()\n",
    "plt.xticks()\n",
    "plt.yticks()\n",
    "plt.title('PLOT')\n",
    "plt.gcf().set_tight_layout(True) # To prevent the xlabel being cut off\n",
    "plt.show()"
   ]
  },
  {
   "cell_type": "markdown",
   "id": "24aedb17",
   "metadata": {},
   "source": [
    "### 1. Explore the actual duration data."
   ]
  },
  {
   "cell_type": "code",
   "execution_count": null,
   "id": "d768d3f1",
   "metadata": {},
   "outputs": [],
   "source": [
    "# View and validate the 'ad' dataframe.\n",
    "print(ad.shape)\n",
    "print(ad.dtypes)\n",
    "ad.head()"
   ]
  },
  {
   "cell_type": "code",
   "execution_count": null,
   "id": "1a5e35ec",
   "metadata": {},
   "outputs": [],
   "source": [
    "#View descriptive statistics\n",
    "ad.describe()"
   ]
  },
  {
   "cell_type": "code",
   "execution_count": null,
   "id": "f46303da",
   "metadata": {},
   "outputs": [],
   "source": [
    "# Check for missing data in all files.\n",
    "ad_na = ad[ad.isna().any(axis=1)]\n",
    "ar_na = ar[ar.isna().any(axis=1)]\n",
    "nc_na = nc[nc.isna().any(axis=1)]\n",
    "\n",
    "print(ad_na.shape)\n",
    "print(ar_na.shape)\n",
    "print(nc_na.shape)"
   ]
  },
  {
   "cell_type": "code",
   "execution_count": null,
   "id": "174a402c",
   "metadata": {},
   "outputs": [],
   "source": [
    "# Find out the number of locations based on the 'ad' dataframe.\n",
    "ad_locations = ad['sub_icb_location_name'].value_counts()\n",
    "\n",
    "print(ad_locations.shape)"
   ]
  },
  {
   "cell_type": "code",
   "execution_count": null,
   "id": "e0cd4929",
   "metadata": {},
   "outputs": [],
   "source": [
    "# Find out the number of sub location codes.\n",
    "print(ad['sub_icb_location_code'].value_counts())"
   ]
  },
  {
   "cell_type": "code",
   "execution_count": null,
   "id": "ce167460",
   "metadata": {},
   "outputs": [],
   "source": [
    "# Find out the number of ons locations.\n",
    "ad_locations_ons = ad['icb_ons_code'].value_counts()\n",
    "print(ad_locations_ons.shape)"
   ]
  },
  {
   "cell_type": "code",
   "execution_count": null,
   "id": "ff2a0bb1",
   "metadata": {},
   "outputs": [],
   "source": [
    "# Check with value count which 5 location has the highest and the lowest number of records.\n",
    "print(ad['sub_icb_location_name'].value_counts())"
   ]
  },
  {
   "cell_type": "code",
   "execution_count": null,
   "id": "4e7a8748",
   "metadata": {},
   "outputs": [],
   "source": [
    "# Check the number of records.\n",
    "ad['count_of_appointments'].count()"
   ]
  },
  {
   "cell_type": "code",
   "execution_count": null,
   "id": "b96138cd",
   "metadata": {},
   "outputs": [],
   "source": [
    "## Instead of working with the number of records, explore number of appointments.\n",
    "# Calculate the number of appointments.\n",
    "ad['count_of_appointments'].sum()"
   ]
  },
  {
   "cell_type": "code",
   "execution_count": null,
   "id": "9afc5d48",
   "metadata": {},
   "outputs": [],
   "source": [
    "print(ad['count_of_appointments'].min())\n",
    "print(ad['count_of_appointments'].max())"
   ]
  },
  {
   "cell_type": "code",
   "execution_count": null,
   "id": "8d11d8d4",
   "metadata": {},
   "outputs": [],
   "source": [
    "# Which location had the highest number of appointments?\n",
    "group_sub_location = ad.groupby('sub_icb_location_ons_code')[['count_of_appointments']].agg('sum')\n",
    "group_sub_location.sort_values(by=['count_of_appointments'], inplace=True, ascending=False)\n",
    "group_sub_location"
   ]
  },
  {
   "cell_type": "code",
   "execution_count": null,
   "id": "a30b5670",
   "metadata": {},
   "outputs": [],
   "source": [
    "# List the top 10 location names by appointments.\n",
    "group_sub_location_name = ad.groupby('sub_icb_location_name')[['count_of_appointments']].agg('sum')\n",
    "group_sub_location_name.sort_values(by=['count_of_appointments'], inplace=True, ascending=False)\n",
    "group_sub_location_name"
   ]
  },
  {
   "cell_type": "code",
   "execution_count": null,
   "id": "e04dfc5e",
   "metadata": {},
   "outputs": [],
   "source": [
    "# Analyse locations.\n",
    "group_sub_location_name.describe()"
   ]
  },
  {
   "cell_type": "code",
   "execution_count": null,
   "id": "75369a23",
   "metadata": {},
   "outputs": [],
   "source": [
    "# Show distribution of locations.\n",
    "sns.displot(data=group_sub_location_name, x='count_of_appointments')\n",
    "plt.savefig('location_distribution.png')"
   ]
  },
  {
   "cell_type": "code",
   "execution_count": null,
   "id": "427d83b6",
   "metadata": {},
   "outputs": [],
   "source": [
    "# Group the data based on duration.\n",
    "print(ad['actual_duration'].value_counts())"
   ]
  },
  {
   "cell_type": "code",
   "execution_count": null,
   "id": "23f43106",
   "metadata": {},
   "outputs": [],
   "source": [
    "# Sort actual duration by the number of appointments.\n",
    "group_actual_duration = ad.groupby('actual_duration')[['count_of_appointments']].agg('sum')\n",
    "group_actual_duration.reset_index(inplace=True)\n",
    "group_actual_duration.sort_values(by=['count_of_appointments'], inplace=True, ascending=False)\n",
    "group_actual_duration"
   ]
  },
  {
   "cell_type": "code",
   "execution_count": null,
   "id": "ef500103",
   "metadata": {},
   "outputs": [],
   "source": [
    "# What is the percentage of Unknown data?\n",
    "print(40284086/167980692)"
   ]
  },
  {
   "cell_type": "code",
   "execution_count": null,
   "id": "11ae76dc",
   "metadata": {},
   "outputs": [],
   "source": [
    "# Analyse the dataframe.\n",
    "group_actual_duration.info()"
   ]
  },
  {
   "cell_type": "code",
   "execution_count": null,
   "id": "d505ff25",
   "metadata": {
    "scrolled": false
   },
   "outputs": [],
   "source": [
    "# Show count of appointments in actual duration categories.\n",
    "sns.barplot(y='actual_duration',\n",
    "            x='count_of_appointments',\n",
    "            data=group_actual_duration,\n",
    "            palette='light:b_r')\n",
    "plt.savefig('aduration_categories2.png')"
   ]
  },
  {
   "cell_type": "code",
   "execution_count": null,
   "id": "cff6bac9",
   "metadata": {},
   "outputs": [],
   "source": [
    "# Change the datatype for the appointment date column.\n",
    "ad['appointment_date'] = pd.to_datetime(ad['appointment_date']).dt.date"
   ]
  },
  {
   "cell_type": "code",
   "execution_count": null,
   "id": "f56f3ae6",
   "metadata": {},
   "outputs": [],
   "source": [
    "# Find the earliest and latest records.\n",
    "print(ad['appointment_date'].min())\n",
    "print(ad['appointment_date'].max())"
   ]
  },
  {
   "cell_type": "code",
   "execution_count": null,
   "id": "85f08d5f",
   "metadata": {},
   "outputs": [],
   "source": [
    "# Find the highest and lowest number of records by date.\n",
    "print(ad['appointment_date'].value_counts())"
   ]
  },
  {
   "cell_type": "markdown",
   "id": "ef81c8c4",
   "metadata": {},
   "source": [
    "### 2. Explore the appointment regional data."
   ]
  },
  {
   "cell_type": "code",
   "execution_count": null,
   "id": "2751c632",
   "metadata": {
    "scrolled": true
   },
   "outputs": [],
   "source": [
    "# View and validate the ar dataframe.\n",
    "print(ar.shape)\n",
    "print(ar.dtypes)\n",
    "ar.head()"
   ]
  },
  {
   "cell_type": "code",
   "execution_count": null,
   "id": "1aae5f80",
   "metadata": {},
   "outputs": [],
   "source": [
    "# Find out the number of ons locations.\n",
    "ar_locations_ons = ar['icb_ons_code'].value_counts()\n",
    "\n",
    "print(ad_locations_ons.shape)"
   ]
  },
  {
   "cell_type": "code",
   "execution_count": null,
   "id": "690e8ee7",
   "metadata": {},
   "outputs": [],
   "source": [
    "# Calculate the number of appointments\n",
    "ar['count_of_appointments'].sum()"
   ]
  },
  {
   "cell_type": "code",
   "execution_count": null,
   "id": "a5248da4",
   "metadata": {},
   "outputs": [],
   "source": [
    "# Sense check the data.\n",
    "ar.describe()"
   ]
  },
  {
   "cell_type": "code",
   "execution_count": null,
   "id": "35ed99ea",
   "metadata": {},
   "outputs": [],
   "source": [
    "# Sort the dataframe by count of appointments.\n",
    "sorted_ar = ar.sort_values(by=['count_of_appointments'], ascending=False)\n",
    "sorted_ar"
   ]
  },
  {
   "cell_type": "code",
   "execution_count": null,
   "id": "f7980706",
   "metadata": {},
   "outputs": [],
   "source": [
    "# Group records by month.\n",
    "ar_month = (ar['appointment_month'].value_counts(sort=False))\n",
    "ar_month"
   ]
  },
  {
   "cell_type": "code",
   "execution_count": null,
   "id": "87f9aca1",
   "metadata": {},
   "outputs": [],
   "source": [
    "# Group the data based on appointment status.\n",
    "ar_status = (ar['appointment_status'].value_counts())\n",
    "ar_status"
   ]
  },
  {
   "cell_type": "code",
   "execution_count": null,
   "id": "47155618",
   "metadata": {},
   "outputs": [],
   "source": [
    "# Count appointment status types.\n",
    "print('Number of appointment statuses:', (ar_status.count()))"
   ]
  },
  {
   "cell_type": "code",
   "execution_count": null,
   "id": "eb009d8b",
   "metadata": {},
   "outputs": [],
   "source": [
    "# Group number of records.\n",
    "ar_monthly = ar.groupby('appointment_month')[['appointment_status']].agg('value_counts')\n",
    "ar_monthly[0:20]"
   ]
  },
  {
   "cell_type": "code",
   "execution_count": null,
   "id": "ae85bae4",
   "metadata": {},
   "outputs": [],
   "source": [
    "# Group the data by month, then status based on count of appointments.\n",
    "ar_monthly_count = ar.groupby(['appointment_month', 'appointment_status'])[['count_of_appointments']].agg('sum')\n",
    "ar_monthly_count.reset_index(inplace=True)\n",
    "ar_monthly_count"
   ]
  },
  {
   "cell_type": "code",
   "execution_count": null,
   "id": "b1b1e5b6",
   "metadata": {},
   "outputs": [],
   "source": [
    "# Create a lineplot to display appointment status over time.\n",
    "sns.lineplot(x='appointment_month',\n",
    "             y='count_of_appointments',\n",
    "             data=ar_monthly_count,\n",
    "             hue='appointment_status')"
   ]
  },
  {
   "cell_type": "code",
   "execution_count": null,
   "id": "f26ac8d5",
   "metadata": {},
   "outputs": [],
   "source": [
    "# Pivot the dataframe to show values of appointment status monthly.\n",
    "ar_pivot = pd.pivot_table(ar_monthly_count, \n",
    "                          values = 'count_of_appointments', \n",
    "                          index='appointment_month', \n",
    "                          columns = 'appointment_status')\n",
    "ar_pivot"
   ]
  },
  {
   "cell_type": "code",
   "execution_count": null,
   "id": "cef9197f",
   "metadata": {},
   "outputs": [],
   "source": [
    "# Calculate total monthly and attendance ratio columns.\n",
    "ar_pivot['total_appointments'] = ar_pivot['Attended'] + ar_pivot['DNA'] + ar_pivot['Unknown']\n",
    "ar_pivot['attendance_ratio'] = ar_pivot['Attended']/ar_pivot['total_appointments']\n",
    "ar_pivot"
   ]
  },
  {
   "cell_type": "code",
   "execution_count": null,
   "id": "070e8f86",
   "metadata": {},
   "outputs": [],
   "source": [
    "# Sense check pivot data.\n",
    "ar_monthly_apps = ar.groupby('appointment_month')[['count_of_appointments']].agg('sum')\n",
    "ar_monthly_apps.reset_index(inplace=True)\n",
    "ar_monthly_apps.loc['total'] = ar_monthly_apps.sum()\n",
    "ar_monthly_apps"
   ]
  },
  {
   "cell_type": "code",
   "execution_count": null,
   "id": "45d66a7b",
   "metadata": {},
   "outputs": [],
   "source": [
    "ax = sns.lineplot(x='appointment_month', y='attendance_ratio', data=ar_pivot, color='orange', label='attendance')\n",
    "ax2 = ax.twinx()\n",
    "ax2 = sns.lineplot(x='appointment_month', y='total_appointments', data=ar_pivot, color='b', label='appointments')\n",
    "ax.set_title('')\n",
    "ax.set(ylabel='Attendance')\n",
    "ax.set(xlabel='')\n",
    "ax.set_xticks([0, 5, 10, 15, 20, 25, 29])\n",
    "ax.set_xticks([1, 2, 3, 4, 6, 7, 8, 9], minor=True)\n",
    "ax.legend(loc='upper right', fontsize='small')\n",
    "ax2.legend(loc='lower right', fontsize='small')\n",
    "plt.savefig('attendance.png')"
   ]
  },
  {
   "cell_type": "code",
   "execution_count": null,
   "id": "e3c8eae4",
   "metadata": {
    "scrolled": true
   },
   "outputs": [],
   "source": [
    "# Check the appointment numbers alone.\n",
    "ax2 = sns.lineplot(x='appointment_month', y='total_appointments', data=ar_pivot, color='b', label='appointments')"
   ]
  },
  {
   "cell_type": "code",
   "execution_count": null,
   "id": "c277f091",
   "metadata": {},
   "outputs": [],
   "source": [
    "# Group the data based on hcp type.\n",
    "ar_hcp = (ar['hcp_type'].value_counts())\n",
    "ar_hcp"
   ]
  },
  {
   "cell_type": "code",
   "execution_count": null,
   "id": "a638bc1d",
   "metadata": {},
   "outputs": [],
   "source": [
    "# Group the data by month, then status.\n",
    "ar_monthly_hcp = ar.groupby(['appointment_month', 'hcp_type'])[['count_of_appointments']].agg('sum')\n",
    "ar_monthly_hcp.reset_index(inplace=True)\n",
    "ar_monthly_hcp"
   ]
  },
  {
   "cell_type": "code",
   "execution_count": null,
   "id": "7b0de87f",
   "metadata": {},
   "outputs": [],
   "source": [
    "# Create a lineplot to display appointment status over time.\n",
    "sns.lineplot(x='appointment_month',\n",
    "             y='count_of_appointments', \n",
    "             data=ar_monthly_hcp, \n",
    "             hue='hcp_type')\n",
    "plt.legend(bbox_to_anchor = (1.25, 0.6), loc='center right', fontsize='small')"
   ]
  },
  {
   "cell_type": "code",
   "execution_count": null,
   "id": "4222d81c",
   "metadata": {},
   "outputs": [],
   "source": [
    "# Group the data based on appointment mode.\n",
    "ar_mode = (ar['appointment_mode'].value_counts())\n",
    "ar_mode"
   ]
  },
  {
   "cell_type": "code",
   "execution_count": null,
   "id": "7d00faa5",
   "metadata": {},
   "outputs": [],
   "source": [
    "# Group the data by month, then status.\n",
    "ar_monthly_amod = ar.groupby(['appointment_month', 'appointment_mode'])[['count_of_appointments']].agg('sum')\n",
    "ar_monthly_amod.reset_index(inplace=True)\n",
    "ar_monthly_amod"
   ]
  },
  {
   "cell_type": "code",
   "execution_count": null,
   "id": "97e40314",
   "metadata": {
    "scrolled": true
   },
   "outputs": [],
   "source": [
    "# Create a lineplot to display appointment status over time.\n",
    "ax=sns.lineplot(x='appointment_month',\n",
    "             y='count_of_appointments',\n",
    "             data=ar_monthly_amod,\n",
    "             hue='appointment_mode')\n",
    "ax.set_title('')\n",
    "ax.set(ylabel='count_of_appointments')\n",
    "ax.set(xlabel='')\n",
    "ax.set_xticks([0, 5, 10, 15, 20, 25, 29])\n",
    "ax.set_xticks([1, 2, 3, 4, 6, 7, 8, 9], minor=True)\n",
    "plt.legend(bbox_to_anchor = (1.25, 0.6), loc='center right', fontsize='small')\n",
    "plt.savefig('monthly_appointment_mode.png')"
   ]
  },
  {
   "cell_type": "code",
   "execution_count": null,
   "id": "605695d8",
   "metadata": {},
   "outputs": [],
   "source": [
    "# Check the time between booking and appointment category.\n",
    "ar_book = (ar['time_between_book_and_appointment'].value_counts())\n",
    "ar_book"
   ]
  },
  {
   "cell_type": "code",
   "execution_count": null,
   "id": "8e688501",
   "metadata": {},
   "outputs": [],
   "source": [
    "# Group the data by month, then status.\n",
    "ar_monthly_book = ar.groupby(['appointment_month', 'time_between_book_and_appointment'])[['count_of_appointments']].agg('sum')\n",
    "ar_monthly_book.reset_index(inplace=True)\n",
    "ar_monthly_book"
   ]
  },
  {
   "cell_type": "code",
   "execution_count": null,
   "id": "55a8e76a",
   "metadata": {},
   "outputs": [],
   "source": [
    "# Create a lineplot to display time between booking and appointment.\n",
    "ax=sns.lineplot(x='appointment_month',\n",
    "             y='count_of_appointments',\n",
    "             data=ar_monthly_book,\n",
    "             hue='time_between_book_and_appointment')\n",
    "ax.set_title('')\n",
    "ax.set(ylabel='count_of_appointments')\n",
    "ax.set(xlabel='')\n",
    "ax.set_xticks([0, 5, 10, 15, 20, 25, 29])\n",
    "ax.set_xticks([1, 2, 3, 4, 6, 7, 8, 9], minor=True)\n",
    "plt.legend(bbox_to_anchor = (1.25, 0.6), loc='center right', fontsize='small')\n",
    "plt.savefig('monthly_booking.png')"
   ]
  },
  {
   "cell_type": "markdown",
   "id": "40455897",
   "metadata": {},
   "source": [
    "### 3. Explore the national categories data."
   ]
  },
  {
   "cell_type": "code",
   "execution_count": null,
   "id": "95a71373",
   "metadata": {},
   "outputs": [],
   "source": [
    "# view and validate the dataframe.\n",
    "print(nc.shape)\n",
    "print(nc.dtypes)\n",
    "nc.head()"
   ]
  },
  {
   "cell_type": "code",
   "execution_count": null,
   "id": "8d95433e",
   "metadata": {},
   "outputs": [],
   "source": [
    "# Find out the number of ons locations.\n",
    "nc_locations_ons = nc['icb_ons_code'].value_counts()\n",
    "print(nc_locations_ons.shape)"
   ]
  },
  {
   "cell_type": "code",
   "execution_count": null,
   "id": "930e199e",
   "metadata": {},
   "outputs": [],
   "source": [
    "# Find and print out the number of locations based on sub location name.\n",
    "nc_locations_sub = nc['sub_icb_location_name'].value_counts()\n",
    "\n",
    "print(\"Count of locations: \")\n",
    "print(nc_locations_sub.shape)"
   ]
  },
  {
   "cell_type": "code",
   "execution_count": null,
   "id": "742edcb0",
   "metadata": {},
   "outputs": [],
   "source": [
    "# Calculate the number of appointments\n",
    "nc['count_of_appointments'].sum()"
   ]
  },
  {
   "cell_type": "code",
   "execution_count": null,
   "id": "ffe34d2d",
   "metadata": {},
   "outputs": [],
   "source": [
    "# Sense check the data.\n",
    "nc.describe()"
   ]
  },
  {
   "cell_type": "code",
   "execution_count": null,
   "id": "880a50ea",
   "metadata": {},
   "outputs": [],
   "source": [
    "# Find out which five location has the highest number of records.\n",
    "print(nc['sub_icb_location_name'].value_counts())"
   ]
  },
  {
   "cell_type": "code",
   "execution_count": null,
   "id": "4c37faaa",
   "metadata": {},
   "outputs": [],
   "source": [
    "# Find out which location has the highest number of appointments.\n",
    "nc_group_sub_location_name = nc.groupby('sub_icb_location_name')[['count_of_appointments']].agg('sum')\n",
    "nc_group_sub_location_name.sort_values(by=['count_of_appointments'], inplace=True, ascending=False)\n",
    "nc_group_sub_location_name[0:106]"
   ]
  },
  {
   "cell_type": "code",
   "execution_count": null,
   "id": "2d0cfccf",
   "metadata": {},
   "outputs": [],
   "source": [
    "# Compare distribution to the ar dataframe.\n",
    "sns.displot(data=nc_group_sub_location_name, x='count_of_appointments')"
   ]
  },
  {
   "cell_type": "code",
   "execution_count": null,
   "id": "d35adc47",
   "metadata": {
    "scrolled": true
   },
   "outputs": [],
   "source": [
    "# Find the highest and lowest number of records by date.\n",
    "print(nc['appointment_date'].value_counts())"
   ]
  },
  {
   "cell_type": "code",
   "execution_count": null,
   "id": "4955adc5",
   "metadata": {},
   "outputs": [],
   "source": [
    "# Change the datatype for the appointment date column.\n",
    "nc['appointment_date'] = pd.to_datetime(nc['appointment_date']).dt.date"
   ]
  },
  {
   "cell_type": "code",
   "execution_count": null,
   "id": "ce7670f2",
   "metadata": {},
   "outputs": [],
   "source": [
    "# Find the earliest and latest records.\n",
    "print(nc['appointment_date'].min())\n",
    "print(nc['appointment_date'].max())"
   ]
  },
  {
   "cell_type": "code",
   "execution_count": null,
   "id": "80d31e4a",
   "metadata": {},
   "outputs": [],
   "source": [
    "# Group the data based on appointment month.\n",
    "nc_month = (nc['appointment_month'].value_counts(sort=False))\n",
    "nc_month"
   ]
  },
  {
   "cell_type": "code",
   "execution_count": null,
   "id": "c9d02c56",
   "metadata": {},
   "outputs": [],
   "source": [
    "# Group monthly using the number of appointments.\n",
    "nc_monthly = nc.groupby('appointment_month')[['count_of_appointments']].agg('sum')\n",
    "nc_monthly.reset_index(inplace=True)\n",
    "nc_monthly"
   ]
  },
  {
   "cell_type": "code",
   "execution_count": null,
   "id": "1f64aeaa",
   "metadata": {},
   "outputs": [],
   "source": [
    "# Create a visual of the monthly data in the nc dataframe.\n",
    "sns.lineplot(x='appointment_month', y='count_of_appointments', data=nc_monthly)"
   ]
  },
  {
   "cell_type": "code",
   "execution_count": null,
   "id": "2a4ea423",
   "metadata": {},
   "outputs": [],
   "source": [
    "# Group the data based on appointment month.\n",
    "nc_service = (nc['service_setting'].value_counts(sort=False))\n",
    "nc_service"
   ]
  },
  {
   "cell_type": "code",
   "execution_count": null,
   "id": "76c673f9",
   "metadata": {},
   "outputs": [],
   "source": [
    "# Count service settings.\n",
    "print('Number of service settings:', (nc_service.count()))"
   ]
  },
  {
   "cell_type": "code",
   "execution_count": null,
   "id": "beb566f3",
   "metadata": {},
   "outputs": [],
   "source": [
    "# Group the data based on appointment month.\n",
    "nc_context = (nc['context_type'].value_counts(sort=False))\n",
    "nc_context"
   ]
  },
  {
   "cell_type": "code",
   "execution_count": null,
   "id": "b01b77bf",
   "metadata": {},
   "outputs": [],
   "source": [
    "# Count context types.\n",
    "print('Number of context types:', (nc_context.count()))"
   ]
  },
  {
   "cell_type": "code",
   "execution_count": null,
   "id": "ad8b0498",
   "metadata": {},
   "outputs": [],
   "source": [
    "# Group the data based on appointment month.\n",
    "nc_category = (nc['national_category'].value_counts(sort=False))"
   ]
  },
  {
   "cell_type": "code",
   "execution_count": null,
   "id": "6b0d1b9d",
   "metadata": {},
   "outputs": [],
   "source": [
    "# Count national category types.\n",
    "print('Number of national categories:', (nc_category.count()))"
   ]
  },
  {
   "cell_type": "code",
   "execution_count": null,
   "id": "0aac5da0",
   "metadata": {},
   "outputs": [],
   "source": [
    "# Group the data based on appointment month.\n",
    "nc_category = (nc['national_category'].value_counts(sort=True))\n",
    "nc_category"
   ]
  },
  {
   "cell_type": "code",
   "execution_count": null,
   "id": "e8e1380a",
   "metadata": {},
   "outputs": [],
   "source": [
    "nc_category_apps = nc.groupby('national_category')[['count_of_appointments']].agg('sum')\n",
    "nc_category_apps.reset_index(inplace=True)\n",
    "nc_category_apps.sort_values(('count_of_appointments'), ascending=False)"
   ]
  },
  {
   "cell_type": "code",
   "execution_count": null,
   "id": "63d091fe",
   "metadata": {},
   "outputs": [],
   "source": [
    "ax = sns.barplot(x='count_of_appointments',\n",
    "                 y='national_category',\n",
    "                 data=nc_category_apps,\n",
    "                 order=nc_category_apps.sort_values('count_of_appointments',\n",
    "                                                    ascending=False).national_category, \n",
    "                 palette='Dark2')\n",
    "ax.set_title('Appointment numbers by national category')\n",
    "ax.set(xlabel='count_of_appointments')\n",
    "ax.set(ylabel='')\n",
    "plt.savefig('nc_categories_appointments.png')"
   ]
  },
  {
   "cell_type": "markdown",
   "id": "6f8e55f7",
   "metadata": {},
   "source": [
    "# Assignment activity 3"
   ]
  },
  {
   "cell_type": "code",
   "execution_count": null,
   "id": "dd422041",
   "metadata": {},
   "outputs": [],
   "source": [
    "# Check datatypes in columns.\n",
    "print(ar.dtypes)"
   ]
  },
  {
   "cell_type": "code",
   "execution_count": null,
   "id": "a356fe68",
   "metadata": {},
   "outputs": [],
   "source": [
    "# Find the earliest and latest records for ad, already done in activity 2.\n",
    "print('The ar DataFrame covers appointments from', \n",
    "      (ar['appointment_month'].min()), \n",
    "      'to', (ar['appointment_month'].max()))"
   ]
  },
  {
   "cell_type": "code",
   "execution_count": null,
   "id": "1342f9be",
   "metadata": {},
   "outputs": [],
   "source": [
    "# Find the earliest and latest records for ad, already done in activity 2.\n",
    "print('The ad DataFrame covers appointments from', \n",
    "      (ad['appointment_date'].min()), \n",
    "      'to', (ad['appointment_date'].max()))"
   ]
  },
  {
   "cell_type": "code",
   "execution_count": null,
   "id": "c38c4cf6",
   "metadata": {},
   "outputs": [],
   "source": [
    "# Find the earliest and latest records for nc, already done in activity 2.\n",
    "print('The nc DataFrame covers appointments from', \n",
    "      (nc['appointment_date'].min()), \n",
    "      'to', (nc['appointment_date'].max()))"
   ]
  },
  {
   "cell_type": "code",
   "execution_count": null,
   "id": "1d4ca669",
   "metadata": {
    "scrolled": true
   },
   "outputs": [],
   "source": [
    "# Create a subset to examine one location in a certain period.\n",
    "nc_subset = nc[nc['sub_icb_location_name'] == 'NHS North West London ICB - W2U3Z']\n",
    "nc_subset"
   ]
  },
  {
   "cell_type": "code",
   "execution_count": null,
   "id": "eb540c14",
   "metadata": {
    "scrolled": true
   },
   "outputs": [],
   "source": [
    "# Filter the date values.\n",
    "nc_sub_filtered = nc_subset[(nc_subset['appointment_date']>=datetime.date(2022,1,1))\n",
    "                            & (nc_subset['appointment_date']<=datetime.date(2022,6,1))] \n",
    "nc_sub_filtered"
   ]
  },
  {
   "cell_type": "code",
   "execution_count": null,
   "id": "95604d9b",
   "metadata": {},
   "outputs": [],
   "source": [
    "# Group by service setting.\n",
    "nc_final = nc_sub_filtered.groupby('service_setting').agg('sum')\n",
    "nc_final.reset_index(inplace=True)\n",
    "nc_final.sort_values(by='count_of_appointments', ascending=False)"
   ]
  },
  {
   "cell_type": "code",
   "execution_count": null,
   "id": "032a26a4",
   "metadata": {},
   "outputs": [],
   "source": [
    "# Sense check the data and compare it to the \n",
    "nc_final.describe()"
   ]
  },
  {
   "cell_type": "code",
   "execution_count": null,
   "id": "dfa64283",
   "metadata": {},
   "outputs": [],
   "source": [
    "# Compare weight of Unmapped service settings to related visuals.\n",
    "sns.barplot(x='service_setting', y='count_of_appointments', data=nc_final)"
   ]
  },
  {
   "cell_type": "code",
   "execution_count": null,
   "id": "55df9b59",
   "metadata": {},
   "outputs": [],
   "source": [
    "# Repeat grouping by a different feature.\n",
    "nc_final2 = nc_sub_filtered.groupby('context_type').agg('sum')\n",
    "nc_final2.loc['total'] = nc_final2.sum()\n",
    "nc_final2.sort_values(by='context_type')"
   ]
  },
  {
   "cell_type": "code",
   "execution_count": null,
   "id": "bd1fbb0b",
   "metadata": {},
   "outputs": [],
   "source": [
    "# Repeat grouping by a different feature.\n",
    "nc_final3 = nc_sub_filtered.groupby('national_category').agg('sum')\n",
    "nc_final3.sort_values(by='count_of_appointments', ascending=False)"
   ]
  },
  {
   "cell_type": "code",
   "execution_count": null,
   "id": "5919e9dd",
   "metadata": {},
   "outputs": [],
   "source": [
    "## Leaving the local subset and using the nc dataset again.\n",
    "# Number of appointments per month == sum of count_of_appointments by month.\n",
    "nc_daily_apps = nc.groupby('appointment_date')[['count_of_appointments']].agg('sum')\n",
    "nc_daily_apps.sort_values(by='count_of_appointments', ascending=False)"
   ]
  },
  {
   "cell_type": "code",
   "execution_count": null,
   "id": "c46fc336",
   "metadata": {},
   "outputs": [],
   "source": [
    "# Check datatypes in columns.\n",
    "print(nc.dtypes)"
   ]
  },
  {
   "cell_type": "code",
   "execution_count": null,
   "id": "9a0bd8a4",
   "metadata": {},
   "outputs": [],
   "source": [
    "# Change the datatype for the appointment date column.\n",
    "nc['appointment_date'] = pd.to_datetime(nc['appointment_date'])\n",
    "\n",
    "print(nc.dtypes)"
   ]
  },
  {
   "cell_type": "code",
   "execution_count": null,
   "id": "13963366",
   "metadata": {},
   "outputs": [],
   "source": [
    "#Calculate the number of appointments per month.\n",
    "nc_monthly_apps = nc.groupby([nc['appointment_date'].dt.year, nc['appointment_date'].dt.month]).agg('sum')\n",
    "nc_monthly_apps.loc['total'] = nc_monthly_apps.sum()\n",
    "nc_monthly_apps"
   ]
  },
  {
   "cell_type": "code",
   "execution_count": null,
   "id": "e7994990",
   "metadata": {},
   "outputs": [],
   "source": [
    "#Calculate the number of records per month.\n",
    "nc_monthly_apps = nc.groupby([nc['appointment_date'].dt.year, nc['appointment_date'].dt.month]).agg('count')\n",
    "nc_monthly_apps.loc['total'] = nc_monthly_apps.sum()\n",
    "nc_monthly_apps.iloc[:,[0]]"
   ]
  },
  {
   "cell_type": "markdown",
   "id": "50a6f245",
   "metadata": {},
   "source": [
    "# Assignment activity 4"
   ]
  },
  {
   "cell_type": "code",
   "execution_count": null,
   "id": "37f008c5",
   "metadata": {},
   "outputs": [],
   "source": [
    "# Import the libraries.\n",
    "import pandas as pd\n",
    "import datetime\n",
    "import seaborn as sns\n",
    "import matplotlib as mpl\n",
    "import matplotlib.pyplot as plt\n",
    "\n",
    "# Load the data set.\n",
    "ad = pd.read_csv('actual_duration.csv')\n",
    "ar = pd.read_csv('appointments_regional.csv')\n",
    "nc = pd.read_excel('national_categories.xlsx')"
   ]
  },
  {
   "cell_type": "code",
   "execution_count": null,
   "id": "eab02db8",
   "metadata": {},
   "outputs": [],
   "source": [
    "# View and validate the 'ad' dataframe.\n",
    "print(ad.shape)\n",
    "print(ad.dtypes)\n",
    "ad.head()"
   ]
  },
  {
   "cell_type": "code",
   "execution_count": null,
   "id": "a3a43280",
   "metadata": {},
   "outputs": [],
   "source": [
    "# Set figure size.\n",
    "sns.set(rc={'figure.figsize':(15, 12)})\n",
    "\n",
    "# Set the plot style as white.\n",
    "sns.set_style('white')"
   ]
  },
  {
   "cell_type": "code",
   "execution_count": null,
   "id": "96751b05",
   "metadata": {},
   "outputs": [],
   "source": [
    "# Validate the nc dataframe.\n",
    "nc"
   ]
  },
  {
   "cell_type": "code",
   "execution_count": null,
   "id": "294b7317",
   "metadata": {},
   "outputs": [],
   "source": [
    "# Change column data type for visualisation.\n",
    "nc[[\"appointment_month\"]] = nc[[\"appointment_month\"]].astype(str) "
   ]
  },
  {
   "cell_type": "code",
   "execution_count": null,
   "id": "44ed0ffc",
   "metadata": {},
   "outputs": [],
   "source": [
    "print(nc.dtypes)"
   ]
  },
  {
   "cell_type": "code",
   "execution_count": null,
   "id": "1e7858d8",
   "metadata": {},
   "outputs": [],
   "source": [
    "# Group by service setting.\n",
    "nc_ss = nc.groupby(['appointment_month','service_setting'])[['count_of_appointments']].agg('sum')\n",
    "nc_ss.reset_index(inplace=True)\n",
    "nc_ss.head()      "
   ]
  },
  {
   "cell_type": "code",
   "execution_count": null,
   "id": "a36c2ec9",
   "metadata": {
    "scrolled": true
   },
   "outputs": [],
   "source": [
    "# Create a lineplot to show change of service settings over time.\n",
    "sns.lineplot(x='appointment_month',\n",
    "             y='count_of_appointments',\n",
    "             hue='service_setting',\n",
    "             data = nc_ss,\n",
    "             ci=None)\n",
    "plt.savefig('monthly_appointments.png')"
   ]
  },
  {
   "cell_type": "code",
   "execution_count": null,
   "id": "52367901",
   "metadata": {},
   "outputs": [],
   "source": [
    "# Group by context_type.\n",
    "nc_ct = nc.groupby(['appointment_month','context_type'])[['count_of_appointments']].agg('sum')\n",
    "nc_ct.reset_index(inplace=True)\n",
    "nc_ct[0:5]  "
   ]
  },
  {
   "cell_type": "code",
   "execution_count": null,
   "id": "195a22bd",
   "metadata": {
    "scrolled": true
   },
   "outputs": [],
   "source": [
    "# Create a lineplot to show change of context type over time.\n",
    "sns.lineplot(x='appointment_month',\n",
    "             y='count_of_appointments',\n",
    "             hue='context_type', \n",
    "             data = nc_ct, ci=None)\n",
    "\n",
    "plt.savefig('context_type.png')"
   ]
  },
  {
   "cell_type": "code",
   "execution_count": null,
   "id": "7679bc2e",
   "metadata": {},
   "outputs": [],
   "source": [
    "# Group by national categories.\n",
    "nc_nc = nc.groupby(['appointment_month','national_category'])[['count_of_appointments']].agg('sum')\n",
    "nc_nc.reset_index(inplace=True)\n",
    "nc_nc.head()"
   ]
  },
  {
   "cell_type": "code",
   "execution_count": null,
   "id": "b9520018",
   "metadata": {},
   "outputs": [],
   "source": [
    "# Create a lineplot to show change of national categories over time.\n",
    "sns.lineplot(x='appointment_month',\n",
    "             y='count_of_appointments',\n",
    "             hue='national_category', \n",
    "             data = nc_nc,\n",
    "             palette='Dark2',\n",
    "             ci=None)\n",
    "plt.legend(bbox_to_anchor=(1,1), loc=\"upper left\", fontsize=18)\n",
    "plt.savefig('monthly_ncategories.png')"
   ]
  },
  {
   "cell_type": "code",
   "execution_count": null,
   "id": "3e473341",
   "metadata": {},
   "outputs": [],
   "source": [
    "# Explore daily figures for service setting.\n",
    "nc_ss_day = nc.groupby(['appointment_month','appointment_date','service_setting'])[['count_of_appointments']].agg('sum')\n",
    "nc_ss_day.reset_index(inplace=True)\n",
    "nc_ss_day"
   ]
  },
  {
   "cell_type": "code",
   "execution_count": null,
   "id": "e3d05d58",
   "metadata": {},
   "outputs": [],
   "source": [
    "print(nc_ss_day.dtypes)\n",
    "print(nc_ss_day.shape)"
   ]
  },
  {
   "cell_type": "code",
   "execution_count": null,
   "id": "a1d994d5",
   "metadata": {},
   "outputs": [],
   "source": [
    "# Show daily figures on visual.\n",
    "sns.lineplot(x='appointment_date',\n",
    "             y='count_of_appointments',\n",
    "             hue='service_setting', \n",
    "             data=nc_ss_day,\n",
    "             ci=None)"
   ]
  },
  {
   "cell_type": "markdown",
   "id": "2c49bdd2",
   "metadata": {},
   "source": [
    "### Objective 2"
   ]
  },
  {
   "cell_type": "markdown",
   "id": "42f85b38",
   "metadata": {},
   "source": [
    "**Create four visuals for the different seasons**"
   ]
  },
  {
   "cell_type": "code",
   "execution_count": null,
   "id": "e9ba801f",
   "metadata": {},
   "outputs": [],
   "source": [
    "# Show August 2021.\n",
    "sns.lineplot(x='appointment_date',\n",
    "             y='count_of_appointments',\n",
    "             hue = 'service_setting',\n",
    "             data = nc_ss_day[nc_ss_day['appointment_month']=='2021-08-01'],\n",
    "             ci=None)\n",
    "\n",
    "plt.savefig('service_setting_summer.png')"
   ]
  },
  {
   "cell_type": "code",
   "execution_count": null,
   "id": "82582f2c",
   "metadata": {},
   "outputs": [],
   "source": [
    "# Show October 2021.\n",
    "sns.lineplot(x='appointment_date',\n",
    "             y='count_of_appointments',\n",
    "             hue = 'service_setting',\n",
    "             data = nc_ss_day[nc_ss_day['appointment_month']=='2021-10-01'],\n",
    "             ci=None)\n",
    "\n",
    "plt.savefig('service_setting_autumn.png')"
   ]
  },
  {
   "cell_type": "code",
   "execution_count": null,
   "id": "57537066",
   "metadata": {},
   "outputs": [],
   "source": [
    "# Show January 2022.\n",
    "sns.lineplot(x='appointment_date',\n",
    "             y='count_of_appointments',\n",
    "             hue = 'service_setting',\n",
    "             data = nc_ss_day[nc_ss_day['appointment_month']=='2022-01-01'],\n",
    "             ci=None)\n",
    "\n",
    "plt.savefig('service_setting_winter.png')"
   ]
  },
  {
   "cell_type": "code",
   "execution_count": null,
   "id": "87aa454f",
   "metadata": {},
   "outputs": [],
   "source": [
    "# Show April 2022.\n",
    "sns.lineplot(x='appointment_date',\n",
    "             y='count_of_appointments',\n",
    "             hue = 'service_setting',\n",
    "             data = nc_ss_day[nc_ss_day['appointment_month']=='2022-04-01'],\n",
    "             ci=None)\n",
    "\n",
    "plt.savefig('service_setting_spring.png')"
   ]
  },
  {
   "cell_type": "code",
   "execution_count": null,
   "id": "f4cfe9b0",
   "metadata": {},
   "outputs": [],
   "source": [
    "# Test another format of visuals.\n",
    "sns.barplot(x='appointment_date',\n",
    "             y='count_of_appointments',\n",
    "             hue = 'service_setting',\n",
    "             data = nc_ss_day[nc_ss_day['appointment_month']=='2022-04-01'],\n",
    "             ci=None)"
   ]
  },
  {
   "cell_type": "markdown",
   "id": "9b4e0b9b",
   "metadata": {},
   "source": [
    "# Assignment activity 5"
   ]
  },
  {
   "cell_type": "code",
   "execution_count": null,
   "id": "b7101ab9",
   "metadata": {},
   "outputs": [],
   "source": [
    "# Libraries and settings needed for analysis\n",
    "# Import the libraries.\n",
    "import pandas as pd\n",
    "import datetime\n",
    "import seaborn as sns\n",
    "import matplotlib as mpl\n",
    "import matplotlib.pyplot as plt\n",
    "\n",
    "# Set figure size.\n",
    "sns.set(rc={'figure.figsize':(15, 12)})\n",
    "\n",
    "# Set the plot style as white.\n",
    "sns.set_style('white')\n",
    "\n",
    "# Maximum column width to display\n",
    "pd.options.display.max_colwidth = 200"
   ]
  },
  {
   "cell_type": "code",
   "execution_count": null,
   "id": "a66e0401",
   "metadata": {},
   "outputs": [],
   "source": [
    "# Load the csv file.\n",
    "tweets = pd.read_csv('tweets.csv')\n",
    "tweets.head"
   ]
  },
  {
   "cell_type": "code",
   "execution_count": null,
   "id": "133c43ea",
   "metadata": {},
   "outputs": [],
   "source": [
    "# Explore the file.\n",
    "tweets.info()"
   ]
  },
  {
   "cell_type": "code",
   "execution_count": null,
   "id": "4cb349bd",
   "metadata": {},
   "outputs": [],
   "source": [
    "# Analyse the file.\n",
    "tweets.describe()"
   ]
  },
  {
   "cell_type": "code",
   "execution_count": null,
   "id": "ceab8a77",
   "metadata": {},
   "outputs": [],
   "source": [
    "# Find number of retweets.\n",
    "tweets['tweet_retweet_count'].value_counts()"
   ]
  },
  {
   "cell_type": "code",
   "execution_count": null,
   "id": "5e6afb94",
   "metadata": {},
   "outputs": [],
   "source": [
    "# Find number of favorites.\n",
    "tweets['tweet_favorite_count'].value_counts()"
   ]
  },
  {
   "cell_type": "code",
   "execution_count": null,
   "id": "f8668392",
   "metadata": {
    "scrolled": true
   },
   "outputs": [],
   "source": [
    "# Load the text only.\n",
    "tweets_text = tweets[['tweet_full_text']]\n",
    "tweets_text.head"
   ]
  },
  {
   "cell_type": "code",
   "execution_count": null,
   "id": "a218d374",
   "metadata": {},
   "outputs": [],
   "source": [
    "# Collect the hashtags from the text.\n",
    "tags = []\n",
    "for y in [x.split(' ') for x in tweets['tweet_full_text'].values]:\n",
    "    for z in y:\n",
    "        if '#' in z:\n",
    "            # Change to lowercase.\n",
    "            tags.append(z.lower())\n",
    "\n",
    "print(tags[:30])         "
   ]
  },
  {
   "cell_type": "code",
   "execution_count": null,
   "id": "c74dad72",
   "metadata": {},
   "outputs": [],
   "source": [
    "# Create a series object.\n",
    "tags = pd.Series(tags)\n",
    "tags"
   ]
  },
  {
   "cell_type": "code",
   "execution_count": null,
   "id": "d96347d9",
   "metadata": {},
   "outputs": [],
   "source": [
    "# View the top 30 hashtags.\n",
    "print(tags[:30])"
   ]
  },
  {
   "cell_type": "code",
   "execution_count": null,
   "id": "f9b413e8",
   "metadata": {},
   "outputs": [],
   "source": [
    "# Check how many tweets.\n",
    "tags.value_counts()"
   ]
  },
  {
   "cell_type": "code",
   "execution_count": null,
   "id": "dc4bbfa0",
   "metadata": {},
   "outputs": [],
   "source": [
    "# Create a new dataframe.\n",
    "data = pd.DataFrame(tags.value_counts().reset_index().values, columns=['word','count'])"
   ]
  },
  {
   "cell_type": "code",
   "execution_count": null,
   "id": "90e320ff",
   "metadata": {},
   "outputs": [],
   "source": [
    "data.head(30)"
   ]
  },
  {
   "cell_type": "code",
   "execution_count": null,
   "id": "8ed1d52e",
   "metadata": {},
   "outputs": [],
   "source": [
    "data.info()"
   ]
  },
  {
   "cell_type": "code",
   "execution_count": null,
   "id": "f1b18a12",
   "metadata": {},
   "outputs": [],
   "source": [
    "# Change column data type.\n",
    "data['count'] = data['count'].astype(int)"
   ]
  },
  {
   "cell_type": "code",
   "execution_count": null,
   "id": "e47722cd",
   "metadata": {},
   "outputs": [],
   "source": [
    "data.info()"
   ]
  },
  {
   "cell_type": "code",
   "execution_count": null,
   "id": "424810f0",
   "metadata": {},
   "outputs": [],
   "source": [
    "data.describe()"
   ]
  },
  {
   "cell_type": "code",
   "execution_count": null,
   "id": "95115bc5",
   "metadata": {},
   "outputs": [],
   "source": [
    "# Create a barplot from the hashtags.\n",
    "ax = sns.barplot(x='word', y='count', data=data[data['count']>10])"
   ]
  },
  {
   "cell_type": "code",
   "execution_count": null,
   "id": "a8d941cd",
   "metadata": {
    "scrolled": true
   },
   "outputs": [],
   "source": [
    "# Improve the barplot.\n",
    "ax = sns.barplot(x='count', y='word', data=data[data['count']>10])"
   ]
  },
  {
   "cell_type": "code",
   "execution_count": null,
   "id": "81d34d0c",
   "metadata": {},
   "outputs": [],
   "source": [
    "# View overrepresented hashtags.\n",
    "data.head()"
   ]
  },
  {
   "cell_type": "code",
   "execution_count": null,
   "id": "bf748d66",
   "metadata": {},
   "outputs": [],
   "source": [
    "# Remove two outliers.\n",
    "data_filtered = data.iloc[2:]\n",
    "data_filtered.head()"
   ]
  },
  {
   "cell_type": "code",
   "execution_count": null,
   "id": "21ff2af6",
   "metadata": {
    "scrolled": false
   },
   "outputs": [],
   "source": [
    "# Filter data to show the top trending hashtags with more than 11 tweets.\n",
    "ax = sns.barplot(x='count',\n",
    "                 y='word',\n",
    "                 data=data_filtered[data_filtered['count']>11],\n",
    "                 palette='light:b_r')\n",
    "ax.set_title('Top trending on Twitter')\n",
    "ax.set(xlabel='Hashtag counts')\n",
    "ax.set(ylabel='')\n",
    "sns.set_style('white')\n",
    "plt.savefig('twitter_trend.png')"
   ]
  },
  {
   "cell_type": "markdown",
   "id": "6b0161eb",
   "metadata": {},
   "source": [
    "# Assignment activity 6"
   ]
  },
  {
   "cell_type": "code",
   "execution_count": null,
   "id": "41e39e8e",
   "metadata": {},
   "outputs": [],
   "source": [
    "# Import the Pandas and DateTime libraries.\n",
    "import pandas as pd\n",
    "import datetime\n",
    "import seaborn as sns\n",
    "import matplotlib.pyplot as plt\n",
    "\n",
    "# Load the data set.\n",
    "ad = pd.read_csv('actual_duration.csv')\n",
    "ar = pd.read_csv('appointments_regional.csv')"
   ]
  },
  {
   "cell_type": "code",
   "execution_count": null,
   "id": "5479e73e",
   "metadata": {},
   "outputs": [],
   "source": [
    "print(ar.shape)\n",
    "print(ar.dtypes)"
   ]
  },
  {
   "cell_type": "code",
   "execution_count": null,
   "id": "d0b5329a",
   "metadata": {},
   "outputs": [],
   "source": [
    "# Make a note of the number of records for this period. Compare to nc\n",
    "ar = ar[ar['appointment_month']>='2021-08']\n",
    "print(ar.shape)"
   ]
  },
  {
   "cell_type": "code",
   "execution_count": null,
   "id": "fc555e93",
   "metadata": {},
   "outputs": [],
   "source": [
    "# View the first five rows of the dataframe.\n",
    "ar[0:5]"
   ]
  },
  {
   "cell_type": "code",
   "execution_count": null,
   "id": "cd273679",
   "metadata": {},
   "outputs": [],
   "source": [
    "# Find the earliest and latest records for the subset of ar.\n",
    "print('The ar DataFrame covers appointments from', \n",
    "      (ar['appointment_month'].min()), \n",
    "      'to', (ar['appointment_month'].max()))"
   ]
  },
  {
   "cell_type": "code",
   "execution_count": null,
   "id": "cfe35e34",
   "metadata": {},
   "outputs": [],
   "source": [
    "# View the dataframe.\n",
    "ar"
   ]
  },
  {
   "cell_type": "code",
   "execution_count": null,
   "id": "085edaac",
   "metadata": {},
   "outputs": [],
   "source": [
    "# Create new aggregate dataframe.\n",
    "ar_agg = ar.groupby(['appointment_month',\n",
    "            'hcp_type',\n",
    "            'appointment_status',\n",
    "            'appointment_mode',\n",
    "            'time_between_book_and_appointment'])[['count_of_appointments']].agg('sum')\n",
    "ar_agg.reset_index(inplace=True)\n",
    "ar_agg"
   ]
  },
  {
   "cell_type": "code",
   "execution_count": null,
   "id": "e13e14e4",
   "metadata": {},
   "outputs": [],
   "source": [
    "# Create dataframe to view appointments monthly.\n",
    "ar_df= ar.groupby(['appointment_month'])[['count_of_appointments']].agg('sum')\n",
    "ar_df.reset_index(inplace=True)\n",
    "ar_df"
   ]
  },
  {
   "cell_type": "code",
   "execution_count": null,
   "id": "01c28b0d",
   "metadata": {},
   "outputs": [],
   "source": [
    "# Calculate utilisation.\n",
    "ar_df['utilisation'] = ar_df['count_of_appointments']/30\n",
    "ar_df['utilisation_percent'] = ar_df['count_of_appointments']/30/12000\n",
    "ar_df=round(ar_df, 1)\n",
    "ar_df"
   ]
  },
  {
   "cell_type": "code",
   "execution_count": null,
   "id": "1d5f5807",
   "metadata": {},
   "outputs": [],
   "source": [
    "ar_df.describe()"
   ]
  },
  {
   "cell_type": "code",
   "execution_count": null,
   "id": "1bb93f98",
   "metadata": {},
   "outputs": [],
   "source": [
    "ar_df[[\"appointment_month\"]] = ar_df[[\"appointment_month\"]].astype(str)\n",
    "ar_agg[[\"appointment_month\"]] = ar_agg[[\"appointment_month\"]].astype(str)"
   ]
  },
  {
   "cell_type": "code",
   "execution_count": null,
   "id": "ccaebe7d",
   "metadata": {},
   "outputs": [],
   "source": [
    "ar_agg"
   ]
  },
  {
   "cell_type": "code",
   "execution_count": null,
   "id": "9aa672b0",
   "metadata": {},
   "outputs": [],
   "source": [
    "# Create visual with monthly appointments.\n",
    "sns.lineplot(x='appointment_month', y='count_of_appointments', data=ar_agg, ci=None)\n",
    "\n",
    "plt.savefig('analyse_appointments.png')"
   ]
  },
  {
   "cell_type": "code",
   "execution_count": null,
   "id": "d58a9d39",
   "metadata": {},
   "outputs": [],
   "source": [
    "# Create visual of utilisation.\n",
    "sns.lineplot(x='appointment_month', y='utilisation', data=ar_df)\n",
    "\n",
    "plt.savefig('analyse_utilisation.png')"
   ]
  },
  {
   "cell_type": "code",
   "execution_count": null,
   "id": "d8d35c1f",
   "metadata": {},
   "outputs": [],
   "source": [
    "# Create visual of utilisation.\n",
    "ax = sns.lineplot(x='appointment_month', y='utilisation_percent', data=ar_df, color='lightgrey')\n",
    "ax.axhline(y=0, linewidth=1, color='lightgrey')\n",
    "ax.axhline(y=100, linewidth=3, color='r')\n",
    "plt.fill_between(ar_df.appointment_month.values, ar_df.utilisation_percent.values, color='lightgrey')\n",
    "ax.set_title('Utilisation')\n",
    "ax.set(xlabel='')\n",
    "ax.set(ylabel='percent')\n",
    "sns.set_style('whitegrid')\n",
    "ax.set_xticks([0, 5, 10])\n",
    "ax.set_xticks([1, 2, 3, 4, 6, 7, 8, 9], minor=True)\n",
    "\n",
    "plt.savefig('analyse_util_percent.png')"
   ]
  },
  {
   "cell_type": "code",
   "execution_count": null,
   "id": "027e7d10",
   "metadata": {},
   "outputs": [],
   "source": [
    "# Create a visual on hcp type.\n",
    "sns.lineplot(x='appointment_month', y='count_of_appointments', hue='hcp_type', data=ar_agg, ci=None)\n",
    "sns.set_style('white')\n",
    "plt.savefig('analyse_hcp.png')"
   ]
  },
  {
   "cell_type": "code",
   "execution_count": null,
   "id": "88d2c573",
   "metadata": {
    "scrolled": true
   },
   "outputs": [],
   "source": [
    "# Create a visual on appointment status.\n",
    "sns.lineplot(x='appointment_month',\n",
    "             y='count_of_appointments',\n",
    "             hue='appointment_status',\n",
    "             data=ar_agg, \n",
    "             ci=None)\n",
    "\n",
    "plt.savefig('analyse_appointment_status.png')"
   ]
  },
  {
   "cell_type": "code",
   "execution_count": null,
   "id": "4415826e",
   "metadata": {},
   "outputs": [],
   "source": [
    "# Create a visual on appointment mode.\n",
    "sns.lineplot(x='appointment_month',\n",
    "             y='count_of_appointments',\n",
    "             hue='appointment_mode',\n",
    "             data=ar_agg, ci=None)\n",
    "\n",
    "plt.savefig('analyse_appointment_mode.png')"
   ]
  },
  {
   "cell_type": "code",
   "execution_count": null,
   "id": "50e5b76e",
   "metadata": {},
   "outputs": [],
   "source": [
    "# Analise time between booking and appointments.\n",
    "sns.lineplot(x='appointment_month',\n",
    "             y='count_of_appointments',\n",
    "             hue='time_between_book_and_appointment',\n",
    "             data=ar_agg, ci=None)\n",
    "\n",
    "plt.savefig('analyse_booking_appointments.png')"
   ]
  },
  {
   "cell_type": "code",
   "execution_count": null,
   "id": "243bcdd9",
   "metadata": {},
   "outputs": [],
   "source": [
    "# Explore monthly figures for service setting.\n",
    "nc_with_gp = nc.groupby(['appointment_month','service_setting'])[['count_of_appointments']].agg('sum')\n",
    "nc_with_gp.reset_index(inplace=True)\n",
    "nc_with_gp.head()"
   ]
  },
  {
   "cell_type": "code",
   "execution_count": null,
   "id": "a3252423",
   "metadata": {},
   "outputs": [],
   "source": [
    "# Create a visual from this weekly service setting data.\n",
    "sns.lineplot(x='appointment_month',\n",
    "             y='count_of_appointments',\n",
    "             hue='service_setting',\n",
    "             data = nc_with_gp, ci=None)\n",
    "\n",
    "plt.savefig('monthly_gp_appointments.png')"
   ]
  },
  {
   "cell_type": "code",
   "execution_count": null,
   "id": "7504651a",
   "metadata": {},
   "outputs": [],
   "source": [
    "# View weekly service setting data without the GP appointments.\n",
    "sns.lineplot(x='appointment_month',\n",
    "             y='count_of_appointments',\n",
    "             hue='service_setting',\n",
    "             data = nc_with_gp[nc_with_gp['service_setting'].isin(['Other','Unmapped',\n",
    "                                                                   'Primary Care Network',\n",
    "                                                                   'Extended Access Provision'])],\n",
    "             ci=None)\n",
    "\n",
    "plt.savefig('monthly_nogp_appointments.png')"
   ]
  }
 ],
 "metadata": {
  "kernelspec": {
   "display_name": "Python 3 (ipykernel)",
   "language": "python",
   "name": "python3"
  },
  "language_info": {
   "codemirror_mode": {
    "name": "ipython",
    "version": 3
   },
   "file_extension": ".py",
   "mimetype": "text/x-python",
   "name": "python",
   "nbconvert_exporter": "python",
   "pygments_lexer": "ipython3",
   "version": "3.9.12"
  }
 },
 "nbformat": 4,
 "nbformat_minor": 5
}
